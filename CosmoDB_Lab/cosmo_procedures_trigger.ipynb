{
 "cells": [
  {
   "cell_type": "markdown",
   "metadata": {},
   "source": [
    "## Lab: Real-World Use Cases for Stored Procedures, Triggers, and UDFs in Azure Cosmos DB Using Python SDK\n",
    "\n",
    "#### Objectives:\n",
    "- Implement real-world use cases for stored procedures, triggers, and UDFs.\n",
    "- Use Python SDK to interact with Azure Cosmos DB"
   ]
  },
  {
   "cell_type": "markdown",
   "metadata": {},
   "source": [
    "### Lab Steps:\n",
    "\n",
    "### Step 1. Setup Cosmos DB and Environment\n",
    "Create a Cosmos DB account, database, and container:\n",
    "\n",
    "- Database: ecommerce-db\n",
    "- Container: orders with /userId as the partition key."
   ]
  },
  {
   "cell_type": "code",
   "execution_count": 2,
   "metadata": {},
   "outputs": [
    {
     "name": "stderr",
     "output_type": "stream",
     "text": [
      "c:\\Users\\Navdeep\\anaconda3\\Lib\\site-packages\\urllib3\\connectionpool.py:1100: InsecureRequestWarning: Unverified HTTPS request is being made to host 'localhost'. Adding certificate verification is strongly advised. See: https://urllib3.readthedocs.io/en/latest/advanced-usage.html#tls-warnings\n",
      "  warnings.warn(\n",
      "c:\\Users\\Navdeep\\anaconda3\\Lib\\site-packages\\urllib3\\connectionpool.py:1100: InsecureRequestWarning: Unverified HTTPS request is being made to host '127.0.0.1'. Adding certificate verification is strongly advised. See: https://urllib3.readthedocs.io/en/latest/advanced-usage.html#tls-warnings\n",
      "  warnings.warn(\n",
      "c:\\Users\\Navdeep\\anaconda3\\Lib\\site-packages\\urllib3\\connectionpool.py:1100: InsecureRequestWarning: Unverified HTTPS request is being made to host '127.0.0.1'. Adding certificate verification is strongly advised. See: https://urllib3.readthedocs.io/en/latest/advanced-usage.html#tls-warnings\n",
      "  warnings.warn(\n",
      "c:\\Users\\Navdeep\\anaconda3\\Lib\\site-packages\\urllib3\\connectionpool.py:1100: InsecureRequestWarning: Unverified HTTPS request is being made to host '127.0.0.1'. Adding certificate verification is strongly advised. See: https://urllib3.readthedocs.io/en/latest/advanced-usage.html#tls-warnings\n",
      "  warnings.warn(\n",
      "c:\\Users\\Navdeep\\anaconda3\\Lib\\site-packages\\urllib3\\connectionpool.py:1100: InsecureRequestWarning: Unverified HTTPS request is being made to host '127.0.0.1'. Adding certificate verification is strongly advised. See: https://urllib3.readthedocs.io/en/latest/advanced-usage.html#tls-warnings\n",
      "  warnings.warn(\n"
     ]
    },
    {
     "name": "stdout",
     "output_type": "stream",
     "text": [
      "Connected to Cosmos DB!\n"
     ]
    }
   ],
   "source": [
    "from azure.cosmos import CosmosClient, PartitionKey\n",
    "\n",
    "# Connection details\n",
    "\n",
    "COSMOS_DB_URI = \"https://localhost:8081\"\n",
    "COSMOS_DB_KEY = \"C2y6yDjf5/R+ob0N8A7Cgv30VRDJIWEHLM+4QDU5DE2nQ9nDuVTqobD4b8mGGyPMbIZnqyMsEcaGQy67XIw/Jw==\"\n",
    "\n",
    "\n",
    "# Initialize Cosmos DB client\n",
    "client = CosmosClient(COSMOS_DB_URI, COSMOS_DB_KEY)\n",
    "\n",
    "# Database and container setup\n",
    "database_name = 'ecommerce-db'\n",
    "container_name = 'orders'\n",
    "\n",
    "# Create database and container if they do not exist\n",
    "database = client.create_database_if_not_exists(id=database_name)\n",
    "container = database.create_container_if_not_exists(\n",
    "    id=container_name,\n",
    "    partition_key=PartitionKey(path='/userId')\n",
    ")\n",
    "\n",
    "print(\"Connected to Cosmos DB!\")"
   ]
  },
  {
   "cell_type": "markdown",
   "metadata": {},
   "source": [
    "2. **Insert some data**"
   ]
  },
  {
   "cell_type": "code",
   "execution_count": 3,
   "metadata": {},
   "outputs": [
    {
     "name": "stdout",
     "output_type": "stream",
     "text": [
      "Sample users added successfully.\n"
     ]
    },
    {
     "name": "stderr",
     "output_type": "stream",
     "text": [
      "c:\\Users\\Navdeep\\anaconda3\\Lib\\site-packages\\urllib3\\connectionpool.py:1100: InsecureRequestWarning: Unverified HTTPS request is being made to host '127.0.0.1'. Adding certificate verification is strongly advised. See: https://urllib3.readthedocs.io/en/latest/advanced-usage.html#tls-warnings\n",
      "  warnings.warn(\n",
      "c:\\Users\\Navdeep\\anaconda3\\Lib\\site-packages\\urllib3\\connectionpool.py:1100: InsecureRequestWarning: Unverified HTTPS request is being made to host '127.0.0.1'. Adding certificate verification is strongly advised. See: https://urllib3.readthedocs.io/en/latest/advanced-usage.html#tls-warnings\n",
      "  warnings.warn(\n",
      "c:\\Users\\Navdeep\\anaconda3\\Lib\\site-packages\\urllib3\\connectionpool.py:1100: InsecureRequestWarning: Unverified HTTPS request is being made to host '127.0.0.1'. Adding certificate verification is strongly advised. See: https://urllib3.readthedocs.io/en/latest/advanced-usage.html#tls-warnings\n",
      "  warnings.warn(\n",
      "c:\\Users\\Navdeep\\anaconda3\\Lib\\site-packages\\urllib3\\connectionpool.py:1100: InsecureRequestWarning: Unverified HTTPS request is being made to host '127.0.0.1'. Adding certificate verification is strongly advised. See: https://urllib3.readthedocs.io/en/latest/advanced-usage.html#tls-warnings\n",
      "  warnings.warn(\n",
      "c:\\Users\\Navdeep\\anaconda3\\Lib\\site-packages\\urllib3\\connectionpool.py:1100: InsecureRequestWarning: Unverified HTTPS request is being made to host '127.0.0.1'. Adding certificate verification is strongly advised. See: https://urllib3.readthedocs.io/en/latest/advanced-usage.html#tls-warnings\n",
      "  warnings.warn(\n",
      "c:\\Users\\Navdeep\\anaconda3\\Lib\\site-packages\\urllib3\\connectionpool.py:1100: InsecureRequestWarning: Unverified HTTPS request is being made to host '127.0.0.1'. Adding certificate verification is strongly advised. See: https://urllib3.readthedocs.io/en/latest/advanced-usage.html#tls-warnings\n",
      "  warnings.warn(\n"
     ]
    }
   ],
   "source": [
    "# Sample users to insert\n",
    "users = [\n",
    "    {\"id\": \"1\", \"userId\": \"user1\", \"name\": \"Alice\", \"totalAmount\": 120.50},\n",
    "    {\"id\": \"2\", \"userId\": \"user1\", \"name\": \"Alice\", \"totalAmount\": 80.00},\n",
    "    {\"id\": \"3\", \"userId\": \"user2\", \"name\": \"Bob\", \"totalAmount\": 200.00},\n",
    "    {\"id\": \"4\", \"userId\": \"user2\", \"name\": \"Bob\", \"totalAmount\": 150.00},\n",
    "    {\"id\": \"5\", \"userId\": \"user3\", \"name\": \"Charlie\", \"totalAmount\": 300.00},\n",
    "    {\"id\": \"6\", \"userId\": \"user3\", \"name\": \"Charlie\", \"totalAmount\": 100.00}\n",
    "]\n",
    "\n",
    "# Insert the users into the container\n",
    "for user in users:\n",
    "    container.upsert_item(user)  # `upsert_item` creates or updates the document\n",
    "\n",
    "print(\"Sample users added successfully.\")"
   ]
  },
  {
   "cell_type": "markdown",
   "metadata": {},
   "source": [
    "## Step 2: Stored Procedure for Order Checkout\n",
    "\n",
    "Stored Procedure: A bulk operation to add multiple items to an order and calculate the total amount.\n",
    "\n",
    "\n",
    "1. **Define the Stored Procedure**"
   ]
  },
  {
   "cell_type": "code",
   "execution_count": 4,
   "metadata": {},
   "outputs": [
    {
     "name": "stderr",
     "output_type": "stream",
     "text": [
      "c:\\Users\\Navdeep\\anaconda3\\Lib\\site-packages\\urllib3\\connectionpool.py:1100: InsecureRequestWarning: Unverified HTTPS request is being made to host 'localhost'. Adding certificate verification is strongly advised. See: https://urllib3.readthedocs.io/en/latest/advanced-usage.html#tls-warnings\n",
      "  warnings.warn(\n"
     ]
    },
    {
     "name": "stdout",
     "output_type": "stream",
     "text": [
      "Stored procedure 'calculateTotalOrderValue' created successfully.\n"
     ]
    },
    {
     "name": "stderr",
     "output_type": "stream",
     "text": [
      "c:\\Users\\Navdeep\\anaconda3\\Lib\\site-packages\\urllib3\\connectionpool.py:1100: InsecureRequestWarning: Unverified HTTPS request is being made to host '127.0.0.1'. Adding certificate verification is strongly advised. See: https://urllib3.readthedocs.io/en/latest/advanced-usage.html#tls-warnings\n",
      "  warnings.warn(\n"
     ]
    }
   ],
   "source": [
    "stored_proc = {\n",
    "    'id': 'calculateTotalOrderValue',\n",
    "    'body': '''\n",
    "    function calculateTotalOrderValue(userId) {\n",
    "        var context = getContext();\n",
    "        var container = context.getCollection();\n",
    "        var response = context.getResponse();\n",
    "\n",
    "        // Validate input\n",
    "        if (!userId) {\n",
    "            throw new Error(\"The 'userId' parameter is required.\");\n",
    "        }\n",
    "\n",
    "        // Query to sum up all order amounts for the given user\n",
    "        var query = 'SELECT VALUE SUM(c.totalAmount) FROM c WHERE c.userId = @userId';\n",
    "        var parameters = [{ name: '@userId', value: userId }];\n",
    "\n",
    "        // Execute the query\n",
    "        var isAccepted = container.queryDocuments(\n",
    "            container.getSelfLink(),\n",
    "            { query: query, parameters: parameters },\n",
    "            {},\n",
    "            function (err, documents, responseOptions) {\n",
    "                if (err) throw new Error(\"Error: \" + err.message);\n",
    "\n",
    "                // If no results, return 0\n",
    "                if (documents.length === 0) {\n",
    "                    response.setBody(0);\n",
    "                } else {\n",
    "                    response.setBody(documents[0]);\n",
    "                }\n",
    "            }\n",
    "        );\n",
    "\n",
    "        if (!isAccepted) {\n",
    "            throw new Error(\"Query was not accepted by the server.\");\n",
    "        }\n",
    "    }\n",
    "    '''\n",
    "}\n",
    "\n",
    "# Deploy the stored procedure\n",
    "container.scripts.create_stored_procedure(body=stored_proc)\n",
    "print(\"Stored procedure 'calculateTotalOrderValue' created successfully.\")\n"
   ]
  },
  {
   "cell_type": "markdown",
   "metadata": {},
   "source": [
    "2. **Execute the Stored Procedure**:"
   ]
  },
  {
   "cell_type": "code",
   "execution_count": 6,
   "metadata": {},
   "outputs": [
    {
     "name": "stdout",
     "output_type": "stream",
     "text": [
      "Total order value for user 'user2': 350\n"
     ]
    },
    {
     "name": "stderr",
     "output_type": "stream",
     "text": [
      "c:\\Users\\Navdeep\\anaconda3\\Lib\\site-packages\\urllib3\\connectionpool.py:1100: InsecureRequestWarning: Unverified HTTPS request is being made to host '127.0.0.1'. Adding certificate verification is strongly advised. See: https://urllib3.readthedocs.io/en/latest/advanced-usage.html#tls-warnings\n",
      "  warnings.warn(\n"
     ]
    }
   ],
   "source": [
    "# Specify the userId (partition key) for which to calculate total order value\n",
    "user_id = 'user2'\n",
    "\n",
    "# Execute the stored procedure\n",
    "result = container.scripts.execute_stored_procedure(\n",
    "    sproc='calculateTotalOrderValue',\n",
    "    partition_key=user_id,  # Partition key\n",
    "    params=[user_id]        # Pass the userId as a parameter\n",
    ")\n",
    "\n",
    "print(f\"Total order value for user '{user_id}': {result}\")"
   ]
  },
  {
   "cell_type": "markdown",
   "metadata": {},
   "source": [
    "# Create a Trigger "
   ]
  },
  {
   "cell_type": "markdown",
   "metadata": {},
   "source": [
    "### Trigger: Validate and Enhance User Data\n",
    "This trigger will:\n",
    "\n",
    "- Validate that the required fields (userId, name, totalAmount) are present in the document.\n",
    "- Automatically add a createdAt timestamp if it's not provided."
   ]
  },
  {
   "cell_type": "code",
   "execution_count": 7,
   "metadata": {},
   "outputs": [
    {
     "name": "stdout",
     "output_type": "stream",
     "text": [
      "Trigger 'validateAndEnhanceUserData' created successfully.\n"
     ]
    },
    {
     "name": "stderr",
     "output_type": "stream",
     "text": [
      "c:\\Users\\Navdeep\\anaconda3\\Lib\\site-packages\\urllib3\\connectionpool.py:1100: InsecureRequestWarning: Unverified HTTPS request is being made to host '127.0.0.1'. Adding certificate verification is strongly advised. See: https://urllib3.readthedocs.io/en/latest/advanced-usage.html#tls-warnings\n",
      "  warnings.warn(\n"
     ]
    }
   ],
   "source": [
    "trigger = {\n",
    "    'id': 'validateAndEnhanceUserData',\n",
    "    'body': '''\n",
    "    function validateAndEnhanceUserData() {\n",
    "        var context = getContext();\n",
    "        var request = context.getRequest();\n",
    "        var user = request.getBody();\n",
    "\n",
    "        // Validate required fields\n",
    "        if (!user.userId) {\n",
    "            throw new Error(\"Missing field: 'userId' is required.\");\n",
    "        }\n",
    "        if (!user.name) {\n",
    "            throw new Error(\"Missing field: 'name' is required.\");\n",
    "        }\n",
    "        if (user.totalAmount == null) {\n",
    "            throw new Error(\"Missing field: 'totalAmount' is required.\");\n",
    "        }\n",
    "\n",
    "        // Add a createdAt timestamp if it's missing\n",
    "        if (!user.createdAt) {\n",
    "            user.createdAt = new Date().toISOString();\n",
    "        }\n",
    "\n",
    "        // Update the request body with the enhanced user object\n",
    "        request.setBody(user);\n",
    "    }\n",
    "    ''',\n",
    "    'triggerType': 'Pre',  # Pre-trigger\n",
    "    'triggerOperation': 'Create'  # Trigger only on item creation\n",
    "}\n",
    "\n",
    "# Deploy the trigger\n",
    "container.scripts.create_trigger(body=trigger)\n",
    "print(\"Trigger 'validateAndEnhanceUserData' created successfully.\")\n"
   ]
  },
  {
   "cell_type": "markdown",
   "metadata": {},
   "source": [
    "2. **Test the trigger**"
   ]
  },
  {
   "cell_type": "code",
   "execution_count": 8,
   "metadata": {},
   "outputs": [
    {
     "name": "stdout",
     "output_type": "stream",
     "text": [
      "User inserted with trigger: {'id': '7', 'userId': 'user4', 'name': 'David', 'totalAmount': 150, 'createdAt': '2025-02-06T06:14:09.708Z', '_rid': 'NwE6AOtkvocHAAAAAAAAAA==', '_self': 'dbs/NwE6AA==/colls/NwE6AOtkvoc=/docs/NwE6AOtkvocHAAAAAAAAAA==/', '_etag': '\"00000000-0000-0000-785e-55ac49b601db\"', '_attachments': 'attachments/', '_ts': 1738822449}\n"
     ]
    },
    {
     "name": "stderr",
     "output_type": "stream",
     "text": [
      "c:\\Users\\Navdeep\\anaconda3\\Lib\\site-packages\\urllib3\\connectionpool.py:1100: InsecureRequestWarning: Unverified HTTPS request is being made to host '127.0.0.1'. Adding certificate verification is strongly advised. See: https://urllib3.readthedocs.io/en/latest/advanced-usage.html#tls-warnings\n",
      "  warnings.warn(\n"
     ]
    }
   ],
   "source": [
    "# Insert a user using the trigger\n",
    "user = {\n",
    "    \"id\": \"7\",\n",
    "    \"userId\": \"user4\",\n",
    "    \"name\": \"David\",\n",
    "    \"totalAmount\": 150.00\n",
    "    # No createdAt field here; the trigger will add it\n",
    "}\n",
    "\n",
    "result = container.create_item(\n",
    "    body=user,\n",
    "    pre_trigger_include=['validateAndEnhanceUserData']  # Use the trigger\n",
    ")\n",
    "\n",
    "print(\"User inserted with trigger:\", result)\n"
   ]
  },
  {
   "cell_type": "markdown",
   "metadata": {},
   "source": [
    "3. **Let's check for missing value**\n",
    "\n",
    "- Exception is expected because we have intentionally missed the name"
   ]
  },
  {
   "cell_type": "code",
   "execution_count": 9,
   "metadata": {},
   "outputs": [
    {
     "name": "stdout",
     "output_type": "stream",
     "text": [
      "Error: (BadRequest) Message: {\"Errors\":[\"Encountered exception while executing Javascript. Exception = Error: Missing field: 'name' is required.\\r\\nStack trace: Error: Missing field: 'name' is required.\\n   at validateAndEnhanceUserData (validateAndEnhanceUserData.js:12:13)\\n   at __docDbMain (validateAndEnhanceUserData.js:28:5)\\n   at Global code (validateAndEnhanceUserData.js:1:2)\"]}\n",
      "ActivityId: 6af5cbcf-0a18-4bf3-ad6d-d609a586ab99, Request URI: /apps/DocDbApp/services/DocDbServer3/partitions/a4cb494f-38c8-11e6-8106-8cdcd42c33be/replicas/1p/, RequestStats: \n",
      "RequestStartTime: 2025-02-06T06:14:29.5013560Z, RequestEndTime: 2025-02-06T06:14:29.5375200Z,  Number of regions attempted:1\n",
      "{\"systemHistory\":[{\"dateUtc\":\"2025-02-06T06:13:30.7164205Z\",\"cpu\":5.279,\"memory\":4065108.000,\"threadInfo\":{\"isThreadStarving\":\"False\",\"threadWaitIntervalInMs\":0.1091,\"availableThreads\":32766,\"minThreads\":16,\"maxThreads\":32767},\"numberOfOpenTcpConnection\":2},{\"dateUtc\":\"2025-02-06T06:13:40.7228089Z\",\"cpu\":6.385,\"memory\":3952188.000,\"threadInfo\":{\"isThreadStarving\":\"False\",\"threadWaitIntervalInMs\":0.185,\"availableThreads\":32766,\"minThreads\":16,\"maxThreads\":32767},\"numberOfOpenTcpConnection\":2},{\"dateUtc\":\"2025-02-06T06:13:50.7256245Z\",\"cpu\":4.888,\"memory\":3924388.000,\"threadInfo\":{\"isThreadStarving\":\"False\",\"threadWaitIntervalInMs\":1.1929,\"availableThreads\":32766,\"minThreads\":16,\"maxThreads\":32767},\"numberOfOpenTcpConnection\":2},{\"dateUtc\":\"2025-02-06T06:14:00.7310985Z\",\"cpu\":7.206,\"memory\":1798140.000,\"threadInfo\":{\"isThreadStarving\":\"False\",\"threadWaitIntervalInMs\":0.6555,\"availableThreads\":32766,\"minThreads\":16,\"maxThreads\":32767},\"numberOfOpenTcpConnection\":2},{\"dateUtc\":\"2025-02-06T06:14:10.7425746Z\",\"cpu\":5.722,\"memory\":2959036.000,\"threadInfo\":{\"isThreadStarving\":\"False\",\"threadWaitIntervalInMs\":0.1242,\"availableThreads\":32766,\"minThreads\":16,\"maxThreads\":32767},\"numberOfOpenTcpConnection\":2},{\"dateUtc\":\"2025-02-06T06:14:20.7444783Z\",\"cpu\":6.701,\"memory\":3926544.000,\"threadInfo\":{\"isThreadStarving\":\"False\",\"threadWaitIntervalInMs\":0.1856,\"availableThreads\":32766,\"minThreads\":16,\"maxThreads\":32767},\"numberOfOpenTcpConnection\":2}]}\n",
      "RequestStart: 2025-02-06T06:14:29.5030563Z; ResponseTime: 2025-02-06T06:14:29.5375200Z; StoreResult: StorePhysicalAddress: rntbd://127.0.0.1:10253/apps/DocDbApp/services/DocDbServer3/partitions/a4cb494f-38c8-11e6-8106-8cdcd42c33be/replicas/1p/, LSN: 21, GlobalCommittedLsn: -1, PartitionKeyRangeId: 0, IsValid: True, StatusCode: 400, SubStatusCode: 0, RequestCharge: 22.76, ItemLSN: -1, SessionToken: -1#21, UsingLocalLSN: False, TransportException: null, BELatencyMs: 31.27, ActivityId: 6af5cbcf-0a18-4bf3-ad6d-d609a586ab99, RetryAfterInMs: , ReplicaHealthStatuses: [(port: 10253 | status: Connected | lkt: 06-02-2025 05:55:09)], TransportRequestTimeline: {\"requestTimeline\":[{\"event\": \"Created\", \"startTimeUtc\": \"2025-02-06T06:14:29.5030622Z\", \"durationInMs\": 0.0425},{\"event\": \"ChannelAcquisitionStarted\", \"startTimeUtc\": \"2025-02-06T06:14:29.5031047Z\", \"durationInMs\": 0.0447},{\"event\": \"Pipelined\", \"startTimeUtc\": \"2025-02-06T06:14:29.5031494Z\", \"durationInMs\": 0.9515},{\"event\": \"Transit Time\", \"startTimeUtc\": \"2025-02-06T06:14:29.5041009Z\", \"durationInMs\": 32.2587},{\"event\": \"Received\", \"startTimeUtc\": \"2025-02-06T06:14:29.5363596Z\", \"durationInMs\": 0.2995},{\"event\": \"Completed\", \"startTimeUtc\": \"2025-02-06T06:14:29.5366591Z\", \"durationInMs\": 0}],\"serviceEndpointStats\":{\"inflightRequests\":1,\"openConnections\":1},\"connectionStats\":{\"waitforConnectionInit\":\"False\",\"callsPendingReceive\":0,\"lastSendAttempt\":\"2025-02-06T06:14:09.6685652Z\",\"lastSend\":\"2025-02-06T06:14:09.6689268Z\",\"lastReceive\":\"2025-02-06T06:14:09.7403042Z\"},\"requestSizeInBytes\":548,\"requestBodySizeInBytes\":51,\"responseMetadataSizeInBytes\":183,\"responseBodySizeInBytes\":359};\n",
      " ResourceType: Document, OperationType: Create\n",
      ", SDK: Microsoft.Azure.Documents.Common/2.14.0\n",
      "Code: BadRequest\n",
      "Message: Message: {\"Errors\":[\"Encountered exception while executing Javascript. Exception = Error: Missing field: 'name' is required.\\r\\nStack trace: Error: Missing field: 'name' is required.\\n   at validateAndEnhanceUserData (validateAndEnhanceUserData.js:12:13)\\n   at __docDbMain (validateAndEnhanceUserData.js:28:5)\\n   at Global code (validateAndEnhanceUserData.js:1:2)\"]}\n",
      "ActivityId: 6af5cbcf-0a18-4bf3-ad6d-d609a586ab99, Request URI: /apps/DocDbApp/services/DocDbServer3/partitions/a4cb494f-38c8-11e6-8106-8cdcd42c33be/replicas/1p/, RequestStats: \n",
      "RequestStartTime: 2025-02-06T06:14:29.5013560Z, RequestEndTime: 2025-02-06T06:14:29.5375200Z,  Number of regions attempted:1\n",
      "{\"systemHistory\":[{\"dateUtc\":\"2025-02-06T06:13:30.7164205Z\",\"cpu\":5.279,\"memory\":4065108.000,\"threadInfo\":{\"isThreadStarving\":\"False\",\"threadWaitIntervalInMs\":0.1091,\"availableThreads\":32766,\"minThreads\":16,\"maxThreads\":32767},\"numberOfOpenTcpConnection\":2},{\"dateUtc\":\"2025-02-06T06:13:40.7228089Z\",\"cpu\":6.385,\"memory\":3952188.000,\"threadInfo\":{\"isThreadStarving\":\"False\",\"threadWaitIntervalInMs\":0.185,\"availableThreads\":32766,\"minThreads\":16,\"maxThreads\":32767},\"numberOfOpenTcpConnection\":2},{\"dateUtc\":\"2025-02-06T06:13:50.7256245Z\",\"cpu\":4.888,\"memory\":3924388.000,\"threadInfo\":{\"isThreadStarving\":\"False\",\"threadWaitIntervalInMs\":1.1929,\"availableThreads\":32766,\"minThreads\":16,\"maxThreads\":32767},\"numberOfOpenTcpConnection\":2},{\"dateUtc\":\"2025-02-06T06:14:00.7310985Z\",\"cpu\":7.206,\"memory\":1798140.000,\"threadInfo\":{\"isThreadStarving\":\"False\",\"threadWaitIntervalInMs\":0.6555,\"availableThreads\":32766,\"minThreads\":16,\"maxThreads\":32767},\"numberOfOpenTcpConnection\":2},{\"dateUtc\":\"2025-02-06T06:14:10.7425746Z\",\"cpu\":5.722,\"memory\":2959036.000,\"threadInfo\":{\"isThreadStarving\":\"False\",\"threadWaitIntervalInMs\":0.1242,\"availableThreads\":32766,\"minThreads\":16,\"maxThreads\":32767},\"numberOfOpenTcpConnection\":2},{\"dateUtc\":\"2025-02-06T06:14:20.7444783Z\",\"cpu\":6.701,\"memory\":3926544.000,\"threadInfo\":{\"isThreadStarving\":\"False\",\"threadWaitIntervalInMs\":0.1856,\"availableThreads\":32766,\"minThreads\":16,\"maxThreads\":32767},\"numberOfOpenTcpConnection\":2}]}\n",
      "RequestStart: 2025-02-06T06:14:29.5030563Z; ResponseTime: 2025-02-06T06:14:29.5375200Z; StoreResult: StorePhysicalAddress: rntbd://127.0.0.1:10253/apps/DocDbApp/services/DocDbServer3/partitions/a4cb494f-38c8-11e6-8106-8cdcd42c33be/replicas/1p/, LSN: 21, GlobalCommittedLsn: -1, PartitionKeyRangeId: 0, IsValid: True, StatusCode: 400, SubStatusCode: 0, RequestCharge: 22.76, ItemLSN: -1, SessionToken: -1#21, UsingLocalLSN: False, TransportException: null, BELatencyMs: 31.27, ActivityId: 6af5cbcf-0a18-4bf3-ad6d-d609a586ab99, RetryAfterInMs: , ReplicaHealthStatuses: [(port: 10253 | status: Connected | lkt: 06-02-2025 05:55:09)], TransportRequestTimeline: {\"requestTimeline\":[{\"event\": \"Created\", \"startTimeUtc\": \"2025-02-06T06:14:29.5030622Z\", \"durationInMs\": 0.0425},{\"event\": \"ChannelAcquisitionStarted\", \"startTimeUtc\": \"2025-02-06T06:14:29.5031047Z\", \"durationInMs\": 0.0447},{\"event\": \"Pipelined\", \"startTimeUtc\": \"2025-02-06T06:14:29.5031494Z\", \"durationInMs\": 0.9515},{\"event\": \"Transit Time\", \"startTimeUtc\": \"2025-02-06T06:14:29.5041009Z\", \"durationInMs\": 32.2587},{\"event\": \"Received\", \"startTimeUtc\": \"2025-02-06T06:14:29.5363596Z\", \"durationInMs\": 0.2995},{\"event\": \"Completed\", \"startTimeUtc\": \"2025-02-06T06:14:29.5366591Z\", \"durationInMs\": 0}],\"serviceEndpointStats\":{\"inflightRequests\":1,\"openConnections\":1},\"connectionStats\":{\"waitforConnectionInit\":\"False\",\"callsPendingReceive\":0,\"lastSendAttempt\":\"2025-02-06T06:14:09.6685652Z\",\"lastSend\":\"2025-02-06T06:14:09.6689268Z\",\"lastReceive\":\"2025-02-06T06:14:09.7403042Z\"},\"requestSizeInBytes\":548,\"requestBodySizeInBytes\":51,\"responseMetadataSizeInBytes\":183,\"responseBodySizeInBytes\":359};\n",
      " ResourceType: Document, OperationType: Create\n",
      ", SDK: Microsoft.Azure.Documents.Common/2.14.0\n"
     ]
    },
    {
     "name": "stderr",
     "output_type": "stream",
     "text": [
      "c:\\Users\\Navdeep\\anaconda3\\Lib\\site-packages\\urllib3\\connectionpool.py:1100: InsecureRequestWarning: Unverified HTTPS request is being made to host '127.0.0.1'. Adding certificate verification is strongly advised. See: https://urllib3.readthedocs.io/en/latest/advanced-usage.html#tls-warnings\n",
      "  warnings.warn(\n"
     ]
    }
   ],
   "source": [
    "from azure.cosmos.exceptions import CosmosHttpResponseError\n",
    "try:\n",
    "    # Insert a user using the trigger\n",
    "    user = {\n",
    "        \"id\": \"8\",\n",
    "        \"userId\": \"user5\",\n",
    "        \"totalAmount\": 150.00\n",
    "        # No createdAt field here; the trigger will add it\n",
    "    }\n",
    "\n",
    "    result = container.create_item(\n",
    "        body=user,\n",
    "        pre_trigger_include=['validateAndEnhanceUserData']  # Use the trigger\n",
    "    )\n",
    "\n",
    "    print(\"User inserted with trigger:\", result)\n",
    "except CosmosHttpResponseError as e:\n",
    "    # Extract a nice one-line message from the error\n",
    "    print(f\"Error: {e.message}\")"
   ]
  },
  {
   "cell_type": "markdown",
   "metadata": {},
   "source": [
    "# Deploy the UDF\n"
   ]
  },
  {
   "cell_type": "markdown",
   "metadata": {},
   "source": [
    "This UDF will calculate the discounted price for a given item based on its price and a discount percentage."
   ]
  },
  {
   "cell_type": "code",
   "execution_count": 10,
   "metadata": {},
   "outputs": [
    {
     "name": "stdout",
     "output_type": "stream",
     "text": [
      "UDF 'calculateDiscount' created successfully.\n"
     ]
    },
    {
     "name": "stderr",
     "output_type": "stream",
     "text": [
      "c:\\Users\\Navdeep\\anaconda3\\Lib\\site-packages\\urllib3\\connectionpool.py:1100: InsecureRequestWarning: Unverified HTTPS request is being made to host 'localhost'. Adding certificate verification is strongly advised. See: https://urllib3.readthedocs.io/en/latest/advanced-usage.html#tls-warnings\n",
      "  warnings.warn(\n",
      "c:\\Users\\Navdeep\\anaconda3\\Lib\\site-packages\\urllib3\\connectionpool.py:1100: InsecureRequestWarning: Unverified HTTPS request is being made to host '127.0.0.1'. Adding certificate verification is strongly advised. See: https://urllib3.readthedocs.io/en/latest/advanced-usage.html#tls-warnings\n",
      "  warnings.warn(\n"
     ]
    }
   ],
   "source": [
    "# Define the UDF\n",
    "udf = {\n",
    "    'id': 'calculateDiscount',\n",
    "    'body': '''\n",
    "    function calculateDiscount(price, discountPercentage) {\n",
    "        if (price == null || discountPercentage == null) {\n",
    "            throw new Error(\"Both price and discountPercentage are required.\");\n",
    "        }\n",
    "\n",
    "        if (discountPercentage < 0 || discountPercentage > 100) {\n",
    "            throw new Error(\"Discount percentage must be between 0 and 100.\");\n",
    "        }\n",
    "\n",
    "        return price - (price * discountPercentage / 100);\n",
    "    }\n",
    "    '''\n",
    "}\n",
    "\n",
    "# Deploy the UDF to the container\n",
    "container.scripts.create_user_defined_function(body=udf)\n",
    "print(\"UDF 'calculateDiscount' created successfully.\")\n"
   ]
  },
  {
   "cell_type": "markdown",
   "metadata": {},
   "source": [
    "2. **Test the UDF**"
   ]
  },
  {
   "cell_type": "code",
   "execution_count": 11,
   "metadata": {},
   "outputs": [
    {
     "name": "stdout",
     "output_type": "stream",
     "text": [
      "Query results:\n",
      "{'id': '1', 'name': 'Alice', 'totalAmount': 120.5, 'discountedPrice': 108.45}\n",
      "{'id': '2', 'name': 'Alice', 'totalAmount': 80, 'discountedPrice': 72}\n",
      "{'id': '3', 'name': 'Bob', 'totalAmount': 200, 'discountedPrice': 180}\n",
      "{'id': '4', 'name': 'Bob', 'totalAmount': 150, 'discountedPrice': 135}\n",
      "{'id': '5', 'name': 'Charlie', 'totalAmount': 300, 'discountedPrice': 270}\n",
      "{'id': '6', 'name': 'Charlie', 'totalAmount': 100, 'discountedPrice': 90}\n",
      "{'id': '7', 'name': 'David', 'totalAmount': 150, 'discountedPrice': 135}\n"
     ]
    },
    {
     "name": "stderr",
     "output_type": "stream",
     "text": [
      "c:\\Users\\Navdeep\\anaconda3\\Lib\\site-packages\\urllib3\\connectionpool.py:1100: InsecureRequestWarning: Unverified HTTPS request is being made to host '127.0.0.1'. Adding certificate verification is strongly advised. See: https://urllib3.readthedocs.io/en/latest/advanced-usage.html#tls-warnings\n",
      "  warnings.warn(\n"
     ]
    }
   ],
   "source": [
    "# Query using the UDF\n",
    "query = \"\"\"\n",
    "SELECT c.id, c.name, c.totalAmount, udf.calculateDiscount(c.totalAmount, 10) AS discountedPrice\n",
    "FROM c\n",
    "\"\"\"\n",
    "\n",
    "# Run the query\n",
    "results = container.query_items(\n",
    "    query=query,\n",
    "    enable_cross_partition_query=True  # Enable cross-partition query if needed\n",
    ")\n",
    "\n",
    "# Print the results\n",
    "print(\"Query results:\")\n",
    "for item in results:\n",
    "    print(item)\n"
   ]
  }
 ],
 "metadata": {
  "kernelspec": {
   "display_name": "base",
   "language": "python",
   "name": "python3"
  },
  "language_info": {
   "codemirror_mode": {
    "name": "ipython",
    "version": 3
   },
   "file_extension": ".py",
   "mimetype": "text/x-python",
   "name": "python",
   "nbconvert_exporter": "python",
   "pygments_lexer": "ipython3",
   "version": "3.11.7"
  }
 },
 "nbformat": 4,
 "nbformat_minor": 2
}
