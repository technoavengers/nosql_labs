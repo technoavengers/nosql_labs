{
 "cells": [
  {
   "cell_type": "markdown",
   "metadata": {},
   "source": [
    "### Lab: Connecting to Azure Cosmos DB Using Python SDK and Performing CRUD Operations\n",
    "\n",
    "#### Objective:\n",
    "\n",
    "Participants will learn how to connect to Azure Cosmos DB using the Python SDK and perform CRUD (Create, Read, Update, Delete) operations on a database, collections (containers), and documents."
   ]
  },
  {
   "cell_type": "markdown",
   "metadata": {},
   "source": [
    "### <span style=\"color: orange;\">Install the required Azure Cosmos DB SDK</span>"
   ]
  },
  {
   "cell_type": "code",
   "execution_count": 1,
   "metadata": {},
   "outputs": [
    {
     "name": "stdout",
     "output_type": "stream",
     "text": [
      "Requirement already satisfied: azure-cosmos in c:\\users\\navdeep\\anaconda3\\lib\\site-packages (4.9.0)\n",
      "Requirement already satisfied: azure-core>=1.30.0 in c:\\users\\navdeep\\anaconda3\\lib\\site-packages (from azure-cosmos) (1.32.0)\n",
      "Requirement already satisfied: typing-extensions>=4.6.0 in c:\\users\\navdeep\\anaconda3\\lib\\site-packages (from azure-cosmos) (4.9.0)\n",
      "Requirement already satisfied: requests>=2.21.0 in c:\\users\\navdeep\\anaconda3\\lib\\site-packages (from azure-core>=1.30.0->azure-cosmos) (2.31.0)\n",
      "Requirement already satisfied: six>=1.11.0 in c:\\users\\navdeep\\anaconda3\\lib\\site-packages (from azure-core>=1.30.0->azure-cosmos) (1.16.0)\n",
      "Requirement already satisfied: charset-normalizer<4,>=2 in c:\\users\\navdeep\\anaconda3\\lib\\site-packages (from requests>=2.21.0->azure-core>=1.30.0->azure-cosmos) (2.0.4)\n",
      "Requirement already satisfied: idna<4,>=2.5 in c:\\users\\navdeep\\anaconda3\\lib\\site-packages (from requests>=2.21.0->azure-core>=1.30.0->azure-cosmos) (3.4)\n",
      "Requirement already satisfied: urllib3<3,>=1.21.1 in c:\\users\\navdeep\\anaconda3\\lib\\site-packages (from requests>=2.21.0->azure-core>=1.30.0->azure-cosmos) (2.0.7)\n",
      "Requirement already satisfied: certifi>=2017.4.17 in c:\\users\\navdeep\\anaconda3\\lib\\site-packages (from requests>=2.21.0->azure-core>=1.30.0->azure-cosmos) (2024.2.2)\n",
      "Note: you may need to restart the kernel to use updated packages.\n"
     ]
    }
   ],
   "source": [
    "pip install azure-cosmos\n"
   ]
  },
  {
   "cell_type": "markdown",
   "metadata": {},
   "source": [
    "### <span style=\"color: orange;\">Setting Up CosmoDB Connection</span>"
   ]
  },
  {
   "cell_type": "code",
   "execution_count": 2,
   "metadata": {},
   "outputs": [
    {
     "name": "stderr",
     "output_type": "stream",
     "text": [
      "c:\\Users\\Navdeep\\anaconda3\\Lib\\site-packages\\urllib3\\connectionpool.py:1100: InsecureRequestWarning: Unverified HTTPS request is being made to host 'localhost'. Adding certificate verification is strongly advised. See: https://urllib3.readthedocs.io/en/latest/advanced-usage.html#tls-warnings\n",
      "  warnings.warn(\n"
     ]
    }
   ],
   "source": [
    "from azure.cosmos import CosmosClient, exceptions\n",
    "\n",
    "COSMOS_DB_URI = \"https://localhost:8081\"\n",
    "COSMOS_DB_KEY = \"C2y6yDjf5/R+ob0N8A7Cgv30VRDJIWEHLM+4QDU5DE2nQ9nDuVTqobD4b8mGGyPMbIZnqyMsEcaGQy67XIw/Jw==\"\n",
    "\n",
    "# Initialize Cosmos Client\n",
    "client = CosmosClient(COSMOS_DB_URI, COSMOS_DB_KEY)\n"
   ]
  },
  {
   "cell_type": "markdown",
   "metadata": {},
   "source": [
    "### <span style=\"color: orange;\">Create Database</span>"
   ]
  },
  {
   "cell_type": "code",
   "execution_count": 3,
   "metadata": {},
   "outputs": [
    {
     "name": "stderr",
     "output_type": "stream",
     "text": [
      "c:\\Users\\Navdeep\\anaconda3\\Lib\\site-packages\\urllib3\\connectionpool.py:1100: InsecureRequestWarning: Unverified HTTPS request is being made to host '127.0.0.1'. Adding certificate verification is strongly advised. See: https://urllib3.readthedocs.io/en/latest/advanced-usage.html#tls-warnings\n",
      "  warnings.warn(\n",
      "c:\\Users\\Navdeep\\anaconda3\\Lib\\site-packages\\urllib3\\connectionpool.py:1100: InsecureRequestWarning: Unverified HTTPS request is being made to host '127.0.0.1'. Adding certificate verification is strongly advised. See: https://urllib3.readthedocs.io/en/latest/advanced-usage.html#tls-warnings\n",
      "  warnings.warn(\n"
     ]
    },
    {
     "name": "stdout",
     "output_type": "stream",
     "text": [
      "Database 'LatestDB' created or already exists.\n"
     ]
    }
   ],
   "source": [
    "def create_database(database_name):\n",
    "    try:\n",
    "        database = client.create_database_if_not_exists(id=database_name)\n",
    "        print(f\"Database '{database_name}' created or already exists.\")\n",
    "        return database\n",
    "    except exceptions.CosmosHttpResponseError as e:\n",
    "        print(f\"Error creating database: {e}\")\n",
    "\n",
    "\n",
    "database = create_database(\"LatestDB\")"
   ]
  },
  {
   "cell_type": "markdown",
   "metadata": {},
   "source": [
    "### <span style=\"color: orange;\">Create Container</span>"
   ]
  },
  {
   "cell_type": "code",
   "execution_count": 4,
   "metadata": {},
   "outputs": [],
   "source": [
    "def create_container(database, container_name, partition_key):\n",
    "    try:\n",
    "        container = database.create_container_if_not_exists(\n",
    "            id=container_name,\n",
    "            partition_key=partition_key,\n",
    "            offer_throughput=400  # Default RU/s\n",
    "        )\n",
    "        print(f\"Container '{container_name}' created or already exists.\")\n",
    "        return container\n",
    "    except exceptions.CosmosHttpResponseError as e:\n",
    "        print(f\"Error creating container: {e}\")"
   ]
  },
  {
   "cell_type": "code",
   "execution_count": 5,
   "metadata": {},
   "outputs": [
    {
     "name": "stderr",
     "output_type": "stream",
     "text": [
      "c:\\Users\\Navdeep\\anaconda3\\Lib\\site-packages\\urllib3\\connectionpool.py:1100: InsecureRequestWarning: Unverified HTTPS request is being made to host '127.0.0.1'. Adding certificate verification is strongly advised. See: https://urllib3.readthedocs.io/en/latest/advanced-usage.html#tls-warnings\n",
      "  warnings.warn(\n",
      "c:\\Users\\Navdeep\\anaconda3\\Lib\\site-packages\\urllib3\\connectionpool.py:1100: InsecureRequestWarning: Unverified HTTPS request is being made to host '127.0.0.1'. Adding certificate verification is strongly advised. See: https://urllib3.readthedocs.io/en/latest/advanced-usage.html#tls-warnings\n",
      "  warnings.warn(\n"
     ]
    },
    {
     "name": "stdout",
     "output_type": "stream",
     "text": [
      "Container 'SampleContainer' created or already exists.\n"
     ]
    }
   ],
   "source": [
    "# Create a container with a valid partition key\n",
    "container_name = \"SampleContainer\"\n",
    "container = database.create_container_if_not_exists(\n",
    "    id=container_name,\n",
    "    partition_key={\"paths\": [\"/category\"], \"kind\": \"Hash\"},  # Correct partition key\n",
    "    offer_throughput=400  # Standard RU/s\n",
    ")\n",
    "print(f\"Container '{container_name}' created or already exists.\")\n"
   ]
  },
  {
   "cell_type": "markdown",
   "metadata": {},
   "source": [
    "### <span style=\"color: orange;\">Insert Document</span>"
   ]
  },
  {
   "cell_type": "code",
   "execution_count": 6,
   "metadata": {},
   "outputs": [],
   "source": [
    "def insert_document(container, document):\n",
    "    try:\n",
    "        response = container.create_item(body=document)\n",
    "        print(f\"Document inserted: {response}\")\n",
    "    except exceptions.CosmosHttpResponseError as e:\n",
    "        print(f\"Error inserting document: {e}\")"
   ]
  },
  {
   "cell_type": "code",
   "execution_count": 7,
   "metadata": {},
   "outputs": [
    {
     "name": "stdout",
     "output_type": "stream",
     "text": [
      "Document inserted: {'id': '1', 'name': 'Azure Cosmos DB Lab', 'category': 'Tutorial', 'description': 'A lab to perform CRUD operations with Cosmos DB.', '_rid': 'UiJlANveC-MBAAAAAAAAAA==', '_self': 'dbs/UiJlAA==/colls/UiJlANveC-M=/docs/UiJlANveC-MBAAAAAAAAAA==/', '_etag': '\"00000000-0000-0000-785b-cb6ffdeb01db\"', '_attachments': 'attachments/', '_ts': 1738821358}\n"
     ]
    },
    {
     "name": "stderr",
     "output_type": "stream",
     "text": [
      "c:\\Users\\Navdeep\\anaconda3\\Lib\\site-packages\\urllib3\\connectionpool.py:1100: InsecureRequestWarning: Unverified HTTPS request is being made to host '127.0.0.1'. Adding certificate verification is strongly advised. See: https://urllib3.readthedocs.io/en/latest/advanced-usage.html#tls-warnings\n",
      "  warnings.warn(\n"
     ]
    }
   ],
   "source": [
    "sample_document = {\n",
    "    \"id\": \"1\",  # Unique ID\n",
    "    \"name\": \"Azure Cosmos DB Lab\",\n",
    "    \"category\": \"Tutorial\",\n",
    "    \"description\": \"A lab to perform CRUD operations with Cosmos DB.\",\n",
    "}\n",
    "insert_document(container, sample_document)\n"
   ]
  },
  {
   "cell_type": "markdown",
   "metadata": {},
   "source": [
    "### <span style=\"color: orange;\">Query Document</span>"
   ]
  },
  {
   "cell_type": "code",
   "execution_count": 8,
   "metadata": {},
   "outputs": [],
   "source": [
    "def query_documents(container, query):\n",
    "    try:\n",
    "        items = list(container.query_items(\n",
    "            query=query,\n",
    "            enable_cross_partition_query=True\n",
    "        ))\n",
    "        print(f\"Query result: {items}\")\n",
    "        return items\n",
    "    except exceptions.CosmosHttpResponseError as e:\n",
    "        print(f\"Error querying documents: {e}\")\n"
   ]
  },
  {
   "cell_type": "code",
   "execution_count": 9,
   "metadata": {},
   "outputs": [
    {
     "name": "stdout",
     "output_type": "stream",
     "text": [
      "Query result: [{'id': '1', 'name': 'Azure Cosmos DB Lab', 'category': 'Tutorial', 'description': 'A lab to perform CRUD operations with Cosmos DB.', '_rid': 'UiJlANveC-MBAAAAAAAAAA==', '_self': 'dbs/UiJlAA==/colls/UiJlANveC-M=/docs/UiJlANveC-MBAAAAAAAAAA==/', '_etag': '\"00000000-0000-0000-785b-cb6ffdeb01db\"', '_attachments': 'attachments/', '_ts': 1738821358}]\n"
     ]
    },
    {
     "name": "stderr",
     "output_type": "stream",
     "text": [
      "c:\\Users\\Navdeep\\anaconda3\\Lib\\site-packages\\urllib3\\connectionpool.py:1100: InsecureRequestWarning: Unverified HTTPS request is being made to host '127.0.0.1'. Adding certificate verification is strongly advised. See: https://urllib3.readthedocs.io/en/latest/advanced-usage.html#tls-warnings\n",
      "  warnings.warn(\n"
     ]
    },
    {
     "data": {
      "text/plain": [
       "[{'id': '1',\n",
       "  'name': 'Azure Cosmos DB Lab',\n",
       "  'category': 'Tutorial',\n",
       "  'description': 'A lab to perform CRUD operations with Cosmos DB.',\n",
       "  '_rid': 'UiJlANveC-MBAAAAAAAAAA==',\n",
       "  '_self': 'dbs/UiJlAA==/colls/UiJlANveC-M=/docs/UiJlANveC-MBAAAAAAAAAA==/',\n",
       "  '_etag': '\"00000000-0000-0000-785b-cb6ffdeb01db\"',\n",
       "  '_attachments': 'attachments/',\n",
       "  '_ts': 1738821358}]"
      ]
     },
     "execution_count": 9,
     "metadata": {},
     "output_type": "execute_result"
    }
   ],
   "source": [
    "query = \"SELECT * FROM c WHERE c.category = 'Tutorial'\"\n",
    "query_documents(container, query)\n"
   ]
  },
  {
   "cell_type": "markdown",
   "metadata": {},
   "source": [
    "### <span style=\"color: orange;\">Update  Document</span>"
   ]
  },
  {
   "cell_type": "code",
   "execution_count": 13,
   "metadata": {},
   "outputs": [],
   "source": [
    "def update_document(container, document_id, updated_data):\n",
    "    try:\n",
    "        document = container.read_item(item=document_id, partition_key=\"Tutorial\")\n",
    "        for key, value in updated_data.items():\n",
    "            document[key] = value\n",
    "        response = container.upsert_item(body=document)\n",
    "        print(f\"Document updated: {response}\")\n",
    "    except exceptions.CosmosHttpResponseError as e:\n",
    "        print(f\"Error updating document: {e}\")\n"
   ]
  },
  {
   "cell_type": "code",
   "execution_count": 15,
   "metadata": {},
   "outputs": [
    {
     "name": "stdout",
     "output_type": "stream",
     "text": [
      "Document updated: {'id': '1', 'name': 'Update_name', 'category': 'Tutorial', 'description': 'Updated description for Cosmos DB Lab twice.', '_rid': 'UiJlANveC-MBAAAAAAAAAA==', '_self': 'dbs/UiJlAA==/colls/UiJlANveC-M=/docs/UiJlANveC-MBAAAAAAAAAA==/', '_etag': '\"00000000-0000-0000-785c-49d2fa9d01db\"', '_attachments': 'attachments/', '_ts': 1738821570}\n"
     ]
    },
    {
     "name": "stderr",
     "output_type": "stream",
     "text": [
      "c:\\Users\\Navdeep\\anaconda3\\Lib\\site-packages\\urllib3\\connectionpool.py:1100: InsecureRequestWarning: Unverified HTTPS request is being made to host '127.0.0.1'. Adding certificate verification is strongly advised. See: https://urllib3.readthedocs.io/en/latest/advanced-usage.html#tls-warnings\n",
      "  warnings.warn(\n",
      "c:\\Users\\Navdeep\\anaconda3\\Lib\\site-packages\\urllib3\\connectionpool.py:1100: InsecureRequestWarning: Unverified HTTPS request is being made to host '127.0.0.1'. Adding certificate verification is strongly advised. See: https://urllib3.readthedocs.io/en/latest/advanced-usage.html#tls-warnings\n",
      "  warnings.warn(\n"
     ]
    }
   ],
   "source": [
    "updated_data = {\"name\": \"Update_name\"}\n",
    "update_document(container, document_id=\"1\", updated_data=updated_data)\n"
   ]
  },
  {
   "cell_type": "markdown",
   "metadata": {},
   "source": [
    "### <span style=\"color: orange;\">Delete Document</span>"
   ]
  },
  {
   "cell_type": "code",
   "execution_count": 16,
   "metadata": {},
   "outputs": [],
   "source": [
    "def delete_document(container, document_id, partition_key):\n",
    "    try:\n",
    "        container.delete_item(item=document_id, partition_key=partition_key)\n",
    "        print(f\"Document with ID '{document_id}' deleted.\")\n",
    "    except exceptions.CosmosHttpResponseError as e:\n",
    "        print(f\"Error deleting document: {e}\")\n"
   ]
  },
  {
   "cell_type": "code",
   "execution_count": 17,
   "metadata": {},
   "outputs": [
    {
     "name": "stdout",
     "output_type": "stream",
     "text": [
      "Document with ID '1' deleted.\n"
     ]
    },
    {
     "name": "stderr",
     "output_type": "stream",
     "text": [
      "c:\\Users\\Navdeep\\anaconda3\\Lib\\site-packages\\urllib3\\connectionpool.py:1100: InsecureRequestWarning: Unverified HTTPS request is being made to host '127.0.0.1'. Adding certificate verification is strongly advised. See: https://urllib3.readthedocs.io/en/latest/advanced-usage.html#tls-warnings\n",
      "  warnings.warn(\n"
     ]
    }
   ],
   "source": [
    "delete_document(container, document_id=\"1\", partition_key=\"Tutorial\")\n"
   ]
  },
  {
   "cell_type": "markdown",
   "metadata": {},
   "source": [
    "### <span style=\"color: orange;\">Delete Container</span>"
   ]
  },
  {
   "cell_type": "code",
   "execution_count": 18,
   "metadata": {},
   "outputs": [],
   "source": [
    "def delete_container(database, container_name):\n",
    "    try:\n",
    "        database.delete_container(container_name)\n",
    "        print(f\"Container '{container_name}' deleted.\")\n",
    "    except exceptions.CosmosHttpResponseError as e:\n",
    "        print(f\"Error deleting container: {e}\")\n"
   ]
  },
  {
   "cell_type": "code",
   "execution_count": 19,
   "metadata": {},
   "outputs": [
    {
     "name": "stderr",
     "output_type": "stream",
     "text": [
      "c:\\Users\\Navdeep\\anaconda3\\Lib\\site-packages\\urllib3\\connectionpool.py:1100: InsecureRequestWarning: Unverified HTTPS request is being made to host '127.0.0.1'. Adding certificate verification is strongly advised. See: https://urllib3.readthedocs.io/en/latest/advanced-usage.html#tls-warnings\n",
      "  warnings.warn(\n"
     ]
    },
    {
     "name": "stdout",
     "output_type": "stream",
     "text": [
      "Container 'SampleContainer' deleted.\n"
     ]
    }
   ],
   "source": [
    "delete_container(database, \"SampleContainer\")\n"
   ]
  },
  {
   "cell_type": "markdown",
   "metadata": {},
   "source": [
    "### <span style=\"color: orange;\">Delete Database</span>"
   ]
  },
  {
   "cell_type": "code",
   "execution_count": 20,
   "metadata": {},
   "outputs": [],
   "source": [
    "def delete_database(database_name):\n",
    "    try:\n",
    "        client.delete_database(database_name)\n",
    "        print(f\"Database '{database_name}' deleted.\")\n",
    "    except exceptions.CosmosHttpResponseError as e:\n",
    "        print(f\"Error deleting database: {e}\")\n"
   ]
  },
  {
   "cell_type": "code",
   "execution_count": 22,
   "metadata": {},
   "outputs": [
    {
     "name": "stdout",
     "output_type": "stream",
     "text": [
      "Database 'LatestDB' deleted.\n"
     ]
    },
    {
     "name": "stderr",
     "output_type": "stream",
     "text": [
      "c:\\Users\\Navdeep\\anaconda3\\Lib\\site-packages\\urllib3\\connectionpool.py:1100: InsecureRequestWarning: Unverified HTTPS request is being made to host '127.0.0.1'. Adding certificate verification is strongly advised. See: https://urllib3.readthedocs.io/en/latest/advanced-usage.html#tls-warnings\n",
      "  warnings.warn(\n"
     ]
    }
   ],
   "source": [
    "delete_database(\"LatestDB\")"
   ]
  }
 ],
 "metadata": {
  "kernelspec": {
   "display_name": "base",
   "language": "python",
   "name": "python3"
  },
  "language_info": {
   "codemirror_mode": {
    "name": "ipython",
    "version": 3
   },
   "file_extension": ".py",
   "mimetype": "text/x-python",
   "name": "python",
   "nbconvert_exporter": "python",
   "pygments_lexer": "ipython3",
   "version": "3.11.7"
  }
 },
 "nbformat": 4,
 "nbformat_minor": 2
}
