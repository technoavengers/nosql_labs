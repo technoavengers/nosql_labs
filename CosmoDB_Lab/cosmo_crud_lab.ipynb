{
 "cells": [
  {
   "cell_type": "markdown",
   "metadata": {},
   "source": [
    "### Lab: Connecting to Azure Cosmos DB Using Python SDK and Performing CRUD Operations\n",
    "\n",
    "#### Objective:\n",
    "\n",
    "Participants will learn how to connect to Azure Cosmos DB using the Python SDK and perform CRUD (Create, Read, Update, Delete) operations on a database, collections (containers), and documents."
   ]
  },
  {
   "cell_type": "markdown",
   "metadata": {},
   "source": [
    "### <span style=\"color: orange;\">Install the required Azure Cosmos DB SDK</span>"
   ]
  },
  {
   "cell_type": "code",
   "execution_count": null,
   "metadata": {},
   "outputs": [],
   "source": [
    "pip install azure-cosmos\n"
   ]
  },
  {
   "cell_type": "markdown",
   "metadata": {},
   "source": [
    "### <span style=\"color: orange;\">Setting Up CosmoDB Connection</span>"
   ]
  },
  {
   "cell_type": "code",
   "execution_count": null,
   "metadata": {},
   "outputs": [],
   "source": [
    "from azure.cosmos import CosmosClient, exceptions\n",
    "\n",
    "COSMOS_DB_URI = \"https://localhost:8081\"\n",
    "COSMOS_DB_KEY = \"C2y6yDjf5/R+ob0N8A7Cgv30VRDJIWEHLM+4QDU5DE2nQ9nDuVTqobD4b8mGGyPMbIZnqyMsEcaGQy67XIw/Jw==\"\n",
    "\n",
    "# Initialize Cosmos Client\n",
    "client = CosmosClient(COSMOS_DB_URI, COSMOS_DB_KEY)\n"
   ]
  },
  {
   "cell_type": "markdown",
   "metadata": {},
   "source": [
    "### <span style=\"color: orange;\">Create Database</span>"
   ]
  },
  {
   "cell_type": "code",
   "execution_count": null,
   "metadata": {},
   "outputs": [],
   "source": [
    "def create_database(database_name):\n",
    "    try:\n",
    "        database = client.create_database_if_not_exists(id=database_name)\n",
    "        print(f\"Database '{database_name}' created or already exists.\")\n",
    "        return database\n",
    "    except exceptions.CosmosHttpResponseError as e:\n",
    "        print(f\"Error creating database: {e}\")\n",
    "\n",
    "\n",
    "database = create_database(\"NewDB\")"
   ]
  },
  {
   "cell_type": "markdown",
   "metadata": {},
   "source": [
    "### <span style=\"color: orange;\">Create Container</span>"
   ]
  },
  {
   "cell_type": "code",
   "execution_count": 28,
   "metadata": {},
   "outputs": [],
   "source": [
    "def create_container(database, container_name, partition_key):\n",
    "    try:\n",
    "        container = database.create_container_if_not_exists(\n",
    "            id=container_name,\n",
    "            partition_key=partition_key,\n",
    "            offer_throughput=400  # Default RU/s\n",
    "        )\n",
    "        print(f\"Container '{container_name}' created or already exists.\")\n",
    "        return container\n",
    "    except exceptions.CosmosHttpResponseError as e:\n",
    "        print(f\"Error creating container: {e}\")"
   ]
  },
  {
   "cell_type": "code",
   "execution_count": null,
   "metadata": {},
   "outputs": [],
   "source": [
    "# Create a container with a valid partition key\n",
    "container_name = \"SampleContainer\"\n",
    "container = database.create_container_if_not_exists(\n",
    "    id=container_name,\n",
    "    partition_key={\"paths\": [\"/category\"], \"kind\": \"Hash\"},  # Correct partition key\n",
    "    offer_throughput=400  # Standard RU/s\n",
    ")\n",
    "print(f\"Container '{container_name}' created or already exists.\")\n"
   ]
  },
  {
   "cell_type": "markdown",
   "metadata": {},
   "source": [
    "### <span style=\"color: orange;\">Insert Document</span>"
   ]
  },
  {
   "cell_type": "code",
   "execution_count": 30,
   "metadata": {},
   "outputs": [],
   "source": [
    "def insert_document(container, document):\n",
    "    try:\n",
    "        response = container.create_item(body=document)\n",
    "        print(f\"Document inserted: {response}\")\n",
    "    except exceptions.CosmosHttpResponseError as e:\n",
    "        print(f\"Error inserting document: {e}\")"
   ]
  },
  {
   "cell_type": "code",
   "execution_count": null,
   "metadata": {},
   "outputs": [],
   "source": [
    "sample_document = {\n",
    "    \"id\": \"1\",  # Unique ID\n",
    "    \"name\": \"Azure Cosmos DB Lab\",\n",
    "    \"category\": \"Tutorial\",\n",
    "    \"description\": \"A lab to perform CRUD operations with Cosmos DB.\",\n",
    "}\n",
    "insert_document(container, sample_document)\n"
   ]
  },
  {
   "cell_type": "markdown",
   "metadata": {},
   "source": [
    "### <span style=\"color: orange;\">Query Document</span>"
   ]
  },
  {
   "cell_type": "code",
   "execution_count": 32,
   "metadata": {},
   "outputs": [],
   "source": [
    "def query_documents(container, query):\n",
    "    try:\n",
    "        items = list(container.query_items(\n",
    "            query=query,\n",
    "            enable_cross_partition_query=True\n",
    "        ))\n",
    "        print(f\"Query result: {items}\")\n",
    "        return items\n",
    "    except exceptions.CosmosHttpResponseError as e:\n",
    "        print(f\"Error querying documents: {e}\")\n"
   ]
  },
  {
   "cell_type": "code",
   "execution_count": null,
   "metadata": {},
   "outputs": [],
   "source": [
    "query = \"SELECT * FROM c WHERE c.category = 'Tutorial'\"\n",
    "query_documents(container, query)\n"
   ]
  },
  {
   "cell_type": "markdown",
   "metadata": {},
   "source": [
    "### <span style=\"color: orange;\">Update  Document</span>"
   ]
  },
  {
   "cell_type": "code",
   "execution_count": 34,
   "metadata": {},
   "outputs": [],
   "source": [
    "def update_document(container, document_id, updated_data):\n",
    "    try:\n",
    "        document = container.read_item(item=document_id, partition_key=\"Tutorial\")\n",
    "        for key, value in updated_data.items():\n",
    "            document[key] = value\n",
    "        response = container.upsert_item(body=document)\n",
    "        print(f\"Document updated: {response}\")\n",
    "    except exceptions.CosmosHttpResponseError as e:\n",
    "        print(f\"Error updating document: {e}\")\n"
   ]
  },
  {
   "cell_type": "code",
   "execution_count": null,
   "metadata": {},
   "outputs": [],
   "source": [
    "updated_data = {\"description\": \"Updated description for Cosmos DB Lab.\"}\n",
    "update_document(container, document_id=\"1\", updated_data=updated_data)\n"
   ]
  },
  {
   "cell_type": "markdown",
   "metadata": {},
   "source": [
    "### <span style=\"color: orange;\">Delete Document</span>"
   ]
  },
  {
   "cell_type": "code",
   "execution_count": 36,
   "metadata": {},
   "outputs": [],
   "source": [
    "def delete_document(container, document_id, partition_key):\n",
    "    try:\n",
    "        container.delete_item(item=document_id, partition_key=partition_key)\n",
    "        print(f\"Document with ID '{document_id}' deleted.\")\n",
    "    except exceptions.CosmosHttpResponseError as e:\n",
    "        print(f\"Error deleting document: {e}\")\n"
   ]
  },
  {
   "cell_type": "code",
   "execution_count": null,
   "metadata": {},
   "outputs": [],
   "source": [
    "delete_document(container, document_id=\"1\", partition_key=\"Tutorial\")\n"
   ]
  },
  {
   "cell_type": "markdown",
   "metadata": {},
   "source": [
    "### <span style=\"color: orange;\">Delete Container</span>"
   ]
  },
  {
   "cell_type": "code",
   "execution_count": 38,
   "metadata": {},
   "outputs": [],
   "source": [
    "def delete_container(database, container_name):\n",
    "    try:\n",
    "        database.delete_container(container_name)\n",
    "        print(f\"Container '{container_name}' deleted.\")\n",
    "    except exceptions.CosmosHttpResponseError as e:\n",
    "        print(f\"Error deleting container: {e}\")\n"
   ]
  },
  {
   "cell_type": "code",
   "execution_count": null,
   "metadata": {},
   "outputs": [],
   "source": [
    "delete_container(database, \"SampleContainer\")\n"
   ]
  },
  {
   "cell_type": "markdown",
   "metadata": {},
   "source": [
    "### <span style=\"color: orange;\">Delete Database</span>"
   ]
  },
  {
   "cell_type": "code",
   "execution_count": 40,
   "metadata": {},
   "outputs": [],
   "source": [
    "def delete_database(database_name):\n",
    "    try:\n",
    "        client.delete_database(database_name)\n",
    "        print(f\"Database '{database_name}' deleted.\")\n",
    "    except exceptions.CosmosHttpResponseError as e:\n",
    "        print(f\"Error deleting database: {e}\")\n"
   ]
  },
  {
   "cell_type": "code",
   "execution_count": null,
   "metadata": {},
   "outputs": [],
   "source": [
    "delete_database(\"SampleDB\")"
   ]
  }
 ],
 "metadata": {
  "kernelspec": {
   "display_name": "base",
   "language": "python",
   "name": "python3"
  },
  "language_info": {
   "codemirror_mode": {
    "name": "ipython",
    "version": 3
   },
   "file_extension": ".py",
   "mimetype": "text/x-python",
   "name": "python",
   "nbconvert_exporter": "python",
   "pygments_lexer": "ipython3",
   "version": "3.11.7"
  }
 },
 "nbformat": 4,
 "nbformat_minor": 2
}
