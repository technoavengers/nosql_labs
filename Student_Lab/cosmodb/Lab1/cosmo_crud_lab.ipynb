{
 "cells": [
  {
   "cell_type": "markdown",
   "metadata": {},
   "source": [
    "### Lab: Connecting to Azure Cosmos DB Using Python SDK and Performing CRUD Operations\n",
    "\n",
    "#### Objective:\n",
    "\n",
    "Participants will learn how to connect to Azure Cosmos DB using the Python SDK and perform CRUD (Create, Read, Update, Delete) operations on a database, collections (containers), and documents."
   ]
  },
  {
   "cell_type": "markdown",
   "metadata": {},
   "source": [
    "### <span style=\"color: orange;\">Install the required Azure Cosmos DB SDK</span>"
   ]
  },
  {
   "cell_type": "code",
   "execution_count": null,
   "metadata": {},
   "outputs": [],
   "source": [
    "pip install azure-cosmos\n"
   ]
  },
  {
   "cell_type": "markdown",
   "metadata": {},
   "source": [
    "### <span style=\"color: orange;\">Setting Up CosmoDB Connection</span>\n",
    "\n",
    "✅ Connect to an Azure Cosmo \n",
    "✅ Provide your CosmoDB Key"
   ]
  },
  {
   "cell_type": "code",
   "execution_count": null,
   "metadata": {},
   "outputs": [],
   "source": [
    "from azure.cosmos import CosmosClient, exceptions\n",
    "\n",
    "COSMOS_DB_URI = \"https://localhost:8081\"\n",
    "COSMOS_DB_KEY = \"Your Cosmo DB Key here\"\n",
    "\n",
    "# Initialize Cosmos Client\n",
    "client = CosmosClient(COSMOS_DB_URI, COSMOS_DB_KEY)\n"
   ]
  },
  {
   "cell_type": "markdown",
   "metadata": {},
   "source": [
    "### <span style=\"color: orange;\">Create Database</span>\n",
    "\n",
    "✅ Create a Database \"StudentDB\""
   ]
  },
  {
   "cell_type": "code",
   "execution_count": null,
   "metadata": {},
   "outputs": [],
   "source": [
    "\n",
    "database_name=\"Your database name here\"\n",
    "database = client.create_database_if_not_exists(id=database_name)\n",
    "print(f\"Database '{database_name}' created or already exists.\")"
   ]
  },
  {
   "cell_type": "markdown",
   "metadata": {},
   "source": [
    "### <span style=\"color: orange;\">Create Container</span>\n",
    "\n",
    "✅ Create a Container name StudInfo\n",
    "✅ Change partition key to /sid\n",
    "✅ Change throughput to 1000\n"
   ]
  },
  {
   "cell_type": "code",
   "execution_count": null,
   "metadata": {},
   "outputs": [],
   "source": [
    "# Create a container with a valid partition key\n",
    "container_name = \"Your container name here\"\n",
    "container = database.create_container_if_not_exists(\n",
    "    id=container_name,\n",
    "    partition_key={\"paths\": [\"your parition key here\"], \"kind\": \"Hash\"},  # Correct partition key\n",
    "    offer_throughput=your throughput here\n",
    ")\n",
    "print(f\"Container '{container_name}' created or already exists.\")\n"
   ]
  },
  {
   "cell_type": "markdown",
   "metadata": {},
   "source": [
    "### <span style=\"color: orange;\">Insert Document</span>\n",
    "\n",
    "✅ Create a studInfo document with below info\n",
    "\n",
    "        sid - 100\n",
    "        name - john\n",
    "        age - 30"
   ]
  },
  {
   "cell_type": "code",
   "execution_count": null,
   "metadata": {},
   "outputs": [],
   "source": [
    "stud_document = {\n",
    "  enter details here\n",
    "}\n",
    "try:\n",
    "    response = container.create_item(body=stud_document)\n",
    "    print(f\"Document inserted: {response}\")\n",
    "except exceptions.CosmosHttpResponseError as e:\n",
    "        print(f\"Error inserting document: {e}\")"
   ]
  },
  {
   "cell_type": "markdown",
   "metadata": {},
   "source": [
    "### <span style=\"color: orange;\">Query Document</span>\n",
    "\n",
    "✅ Query student with name='John'"
   ]
  },
  {
   "cell_type": "code",
   "execution_count": 32,
   "metadata": {},
   "outputs": [],
   "source": [
    "\n",
    "query=\"Your query here\"\n",
    "try:\n",
    "    items = list(container.query_items(\n",
    "                query=query,\n",
    "                enable_cross_partition_query=True\n",
    "            ))\n",
    "    print(f\"Query result: {items}\")\n",
    "except exceptions.CosmosHttpResponseError as e:\n",
    "        print(f\"Error querying documents: {e}\")\n"
   ]
  },
  {
   "cell_type": "markdown",
   "metadata": {},
   "source": [
    "### <span style=\"color: orange;\">Update  Document</span>"
   ]
  },
  {
   "cell_type": "code",
   "execution_count": 34,
   "metadata": {},
   "outputs": [],
   "source": [
    "def update_document(container, document_id, updated_data):\n",
    "    try:\n",
    "        document = container.read_item(item=document_id, partition_key=\"Tutorial\")\n",
    "        for key, value in updated_data.items():\n",
    "            document[key] = value\n",
    "        response = container.upsert_item(body=document)\n",
    "        print(f\"Document updated: {response}\")\n",
    "    except exceptions.CosmosHttpResponseError as e:\n",
    "        print(f\"Error updating document: {e}\")\n"
   ]
  },
  {
   "cell_type": "code",
   "execution_count": null,
   "metadata": {},
   "outputs": [],
   "source": [
    "updated_data = {\"description\": \"Updated description for Cosmos DB Lab.\"}\n",
    "update_document(container, document_id=\"1\", updated_data=updated_data)\n"
   ]
  },
  {
   "cell_type": "markdown",
   "metadata": {},
   "source": [
    "### <span style=\"color: orange;\">Delete Document</span>"
   ]
  },
  {
   "cell_type": "code",
   "execution_count": 36,
   "metadata": {},
   "outputs": [],
   "source": [
    "def delete_document(container, document_id, partition_key):\n",
    "    try:\n",
    "        container.delete_item(item=document_id, partition_key=partition_key)\n",
    "        print(f\"Document with ID '{document_id}' deleted.\")\n",
    "    except exceptions.CosmosHttpResponseError as e:\n",
    "        print(f\"Error deleting document: {e}\")\n"
   ]
  },
  {
   "cell_type": "code",
   "execution_count": null,
   "metadata": {},
   "outputs": [],
   "source": [
    "delete_document(container, document_id=\"1\", partition_key=\"Tutorial\")\n"
   ]
  },
  {
   "cell_type": "markdown",
   "metadata": {},
   "source": [
    "### <span style=\"color: orange;\">Delete Container</span>\n",
    "\n",
    "✅ Delete your studInfo Container\n"
   ]
  },
  {
   "cell_type": "code",
   "execution_count": 38,
   "metadata": {},
   "outputs": [],
   "source": [
    "container_name=\"your container_name\"\n",
    "try:\n",
    "    database.delete_container(container_name)\n",
    "    print(f\"Container '{container_name}' deleted.\")\n",
    "except exceptions.CosmosHttpResponseError as e:\n",
    "    print(f\"Error deleting container: {e}\")\n"
   ]
  },
  {
   "cell_type": "markdown",
   "metadata": {},
   "source": [
    "### <span style=\"color: orange;\">Delete Database</span>\n",
    "\n",
    "\n",
    "✅ Delete your student Database"
   ]
  },
  {
   "cell_type": "code",
   "execution_count": 40,
   "metadata": {},
   "outputs": [],
   "source": [
    "database_name=\"Your Database name\"\n",
    "try:\n",
    "    client.delete_database(database_name)\n",
    "    print(f\"Database '{database_name}' deleted.\")\n",
    "except exceptions.CosmosHttpResponseError as e:\n",
    "    print(f\"Error deleting database: {e}\")\n"
   ]
  }
 ],
 "metadata": {
  "kernelspec": {
   "display_name": "base",
   "language": "python",
   "name": "python3"
  },
  "language_info": {
   "codemirror_mode": {
    "name": "ipython",
    "version": 3
   },
   "file_extension": ".py",
   "mimetype": "text/x-python",
   "name": "python",
   "nbconvert_exporter": "python",
   "pygments_lexer": "ipython3",
   "version": "3.11.7"
  }
 },
 "nbformat": 4,
 "nbformat_minor": 2
}
