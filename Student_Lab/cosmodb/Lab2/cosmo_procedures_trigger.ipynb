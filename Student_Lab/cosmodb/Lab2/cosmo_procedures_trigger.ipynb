{
 "cells": [
  {
   "cell_type": "markdown",
   "metadata": {},
   "source": [
    "### Lab: Implementing Stored Procedures, Triggers, and UDFs in Azure Cosmos DB Using Python SDK with a Movie Database\n",
    "\n",
    "#### Objective:\n",
    "\n",
    "Participants will gain hands-on experience in using stored procedures, triggers, and user-defined functions (UDFs) in Azure Cosmos DB to efficiently manage a movie database. This includes batch operations, data validation, and custom computations using Python SDK."
   ]
  },
  {
   "cell_type": "markdown",
   "metadata": {},
   "source": [
    "### Lab Steps:\n",
    "\n",
    "### Step 1. Setup Cosmos DB and Environment\n",
    "Create a Cosmos DB account, database, and container:\n",
    "\n",
    "- Database: ecommerce-db\n",
    "- Container: orders with /userId as the partition key."
   ]
  },
  {
   "cell_type": "code",
   "execution_count": null,
   "metadata": {},
   "outputs": [],
   "source": [
    "from azure.cosmos import CosmosClient, PartitionKey\n",
    "\n",
    "# Connection details\n",
    "\n",
    "COSMOS_DB_URI = \"https://localhost:8081\"\n",
    "COSMOS_DB_KEY = \"C2y6yDjf5/R+ob0N8A7Cgv30VRDJIWEHLM+4QDU5DE2nQ9nDuVTqobD4b8mGGyPMbIZnqyMsEcaGQy67XIw/Jw==\"\n",
    "\n",
    "\n",
    "# Initialize Cosmos DB client\n",
    "client = CosmosClient(COSMOS_DB_URI, COSMOS_DB_KEY,connection_verify=False)\n",
    "\n",
    "# Database and container setup\n",
    "database_name = 'ecommerce-db'\n",
    "container_name = 'orders'\n",
    "\n",
    "# Create database and container if they do not exist\n",
    "database = client.create_database_if_not_exists(id=database_name)\n",
    "container = database.create_container_if_not_exists(\n",
    "    id=container_name,\n",
    "    partition_key=PartitionKey(path='/userId')\n",
    ")\n",
    "\n",
    "print(\"Connected to Cosmos DB!\")"
   ]
  },
  {
   "cell_type": "markdown",
   "metadata": {},
   "source": [
    "2. **Insert some data**"
   ]
  },
  {
   "cell_type": "code",
   "execution_count": null,
   "metadata": {},
   "outputs": [],
   "source": [
    "# Sample users to insert\n",
    "users = [\n",
    "    {\"id\": \"1\", \"userId\": \"user1\", \"name\": \"Alice\", \"totalAmount\": 120.50},\n",
    "    {\"id\": \"2\", \"userId\": \"user1\", \"name\": \"Alice\", \"totalAmount\": 80.00},\n",
    "    {\"id\": \"3\", \"userId\": \"user2\", \"name\": \"Bob\", \"totalAmount\": 200.00},\n",
    "    {\"id\": \"4\", \"userId\": \"user2\", \"name\": \"Bob\", \"totalAmount\": 150.00},\n",
    "    {\"id\": \"5\", \"userId\": \"user3\", \"name\": \"Charlie\", \"totalAmount\": 300.00},\n",
    "    {\"id\": \"6\", \"userId\": \"user3\", \"name\": \"Charlie\", \"totalAmount\": 100.00}\n",
    "]\n",
    "\n",
    "# Insert the users into the container\n",
    "for user in users:\n",
    "    container.upsert_item(user)  # `upsert_item` creates or updates the document\n",
    "\n",
    "print(\"Sample users added successfully.\")"
   ]
  },
  {
   "cell_type": "markdown",
   "metadata": {},
   "source": [
    "## Step 2: Stored Procedure for Order Checkout\n",
    "\n",
    "Stored Procedure: A bulk operation to add multiple items to an order and calculate the total amount.\n",
    "\n",
    "\n",
    "1. **Define the Stored Procedure**"
   ]
  },
  {
   "cell_type": "code",
   "execution_count": null,
   "metadata": {},
   "outputs": [],
   "source": [
    "stored_proc = {\n",
    "    'id': 'calculateTotalOrderValue',\n",
    "    'body': '''\n",
    "    function calculateTotalOrderValue(userId) {\n",
    "        var context = getContext();\n",
    "        var container = context.getCollection();\n",
    "        var response = context.getResponse();\n",
    "\n",
    "        // Validate input\n",
    "        if (!userId) {\n",
    "            throw new Error(\"The 'userId' parameter is required.\");\n",
    "        }\n",
    "\n",
    "        // Query to sum up all order amounts for the given user\n",
    "        var query = 'SELECT VALUE SUM(c.totalAmount) FROM c WHERE c.userId = @userId';\n",
    "        var parameters = [{ name: '@userId', value: userId }];\n",
    "\n",
    "        // Execute the query\n",
    "        var isAccepted = container.queryDocuments(\n",
    "            container.getSelfLink(),\n",
    "            { query: query, parameters: parameters },\n",
    "            {},\n",
    "            function (err, documents, responseOptions) {\n",
    "                if (err) throw new Error(\"Error: \" + err.message);\n",
    "\n",
    "                // If no results, return 0\n",
    "                if (documents.length === 0) {\n",
    "                    response.setBody(0);\n",
    "                } else {\n",
    "                    response.setBody(documents[0]);\n",
    "                }\n",
    "            }\n",
    "        );\n",
    "\n",
    "        if (!isAccepted) {\n",
    "            throw new Error(\"Query was not accepted by the server.\");\n",
    "        }\n",
    "    }\n",
    "    '''\n",
    "}\n",
    "\n",
    "# Deploy the stored procedure\n",
    "container.scripts.create_stored_procedure(body=stored_proc)\n",
    "print(\"Stored procedure 'calculateTotalOrderValue' created successfully.\")\n"
   ]
  },
  {
   "cell_type": "markdown",
   "metadata": {},
   "source": [
    "2. **Execute the Stored Procedure**:"
   ]
  },
  {
   "cell_type": "code",
   "execution_count": null,
   "metadata": {},
   "outputs": [],
   "source": [
    "# Specify the userId (partition key) for which to calculate total order value\n",
    "user_id = 'user1'\n",
    "\n",
    "# Execute the stored procedure\n",
    "result = container.scripts.execute_stored_procedure(\n",
    "    sproc='calculateTotalOrderValue',\n",
    "    partition_key=user_id,  # Partition key\n",
    "    params=[user_id]        # Pass the userId as a parameter\n",
    ")\n",
    "\n",
    "print(f\"Total order value for user '{user_id}': {result}\")"
   ]
  },
  {
   "cell_type": "markdown",
   "metadata": {},
   "source": [
    "# Create a Trigger "
   ]
  },
  {
   "cell_type": "markdown",
   "metadata": {},
   "source": [
    "### Trigger: Validate and Enhance User Data\n",
    "This trigger will:\n",
    "\n",
    "- Validate that the required fields (userId, name, totalAmount) are present in the document.\n",
    "- Automatically add a createdAt timestamp if it's not provided."
   ]
  },
  {
   "cell_type": "code",
   "execution_count": null,
   "metadata": {},
   "outputs": [],
   "source": [
    "trigger = {\n",
    "    'id': 'validateAndEnhanceUserData',\n",
    "    'body': '''\n",
    "    function validateAndEnhanceUserData() {\n",
    "        var context = getContext();\n",
    "        var request = context.getRequest();\n",
    "        var user = request.getBody();\n",
    "\n",
    "        // Validate required fields\n",
    "        if (!user.userId) {\n",
    "            throw new Error(\"Missing field: 'userId' is required.\");\n",
    "        }\n",
    "        if (!user.name) {\n",
    "            throw new Error(\"Missing field: 'name' is required.\");\n",
    "        }\n",
    "        if (user.totalAmount == null) {\n",
    "            throw new Error(\"Missing field: 'totalAmount' is required.\");\n",
    "        }\n",
    "\n",
    "        // Add a createdAt timestamp if it's missing\n",
    "        if (!user.createdAt) {\n",
    "            user.createdAt = new Date().toISOString();\n",
    "        }\n",
    "\n",
    "        // Update the request body with the enhanced user object\n",
    "        request.setBody(user);\n",
    "    }\n",
    "    ''',\n",
    "    'triggerType': 'Pre',  # Pre-trigger\n",
    "    'triggerOperation': 'Create'  # Trigger only on item creation\n",
    "}\n",
    "\n",
    "# Deploy the trigger\n",
    "container.scripts.create_trigger(body=trigger)\n",
    "print(\"Trigger 'validateAndEnhanceUserData' created successfully.\")\n"
   ]
  },
  {
   "cell_type": "markdown",
   "metadata": {},
   "source": [
    "2. **Test the trigger**"
   ]
  },
  {
   "cell_type": "code",
   "execution_count": null,
   "metadata": {},
   "outputs": [],
   "source": [
    "# Insert a user using the trigger\n",
    "user = {\n",
    "    \"id\": \"7\",\n",
    "    \"userId\": \"user4\",\n",
    "    \"name\": \"David\",\n",
    "    \"totalAmount\": 150.00\n",
    "    # No createdAt field here; the trigger will add it\n",
    "}\n",
    "\n",
    "result = container.create_item(\n",
    "    body=user,\n",
    "    pre_trigger_include=['validateAndEnhanceUserData']  # Use the trigger\n",
    ")\n",
    "\n",
    "print(\"User inserted with trigger:\", result)\n"
   ]
  },
  {
   "cell_type": "markdown",
   "metadata": {},
   "source": [
    "3. **Let's check for missing value**\n",
    "\n",
    "- Exception is expected because we have intentionally missed the name"
   ]
  },
  {
   "cell_type": "code",
   "execution_count": 21,
   "metadata": {},
   "outputs": [
    {
     "name": "stdout",
     "output_type": "stream",
     "text": [
      "Error: (BadRequest) Message: {\"Errors\":[\"Encountered exception while executing Javascript. Exception = Error: Missing field: 'name' is required.\\r\\nStack trace: Error: Missing field: 'name' is required.\\n   at validateAndEnhanceUserData (validateAndEnhanceUserData.js:12:13)\\n   at __docDbMain (validateAndEnhanceUserData.js:28:5)\\n   at Global code (validateAndEnhanceUserData.js:1:2)\"]}\n",
      "ActivityId: 75541214-e437-4e6f-a21d-31c8ba92da2b, Request URI: /apps/DocDbApp/services/DocDbServer12/partitions/a4cb4958-38c8-11e6-8106-8cdcd42c33be/replicas/1p/, RequestStats: \n",
      "RequestStartTime: 2025-01-28T10:58:31.3173081Z, RequestEndTime: 2025-01-28T10:58:31.3217079Z,  Number of regions attempted:1\n",
      "{\"systemHistory\":[{\"dateUtc\":\"2025-01-28T10:57:31.8991077Z\",\"cpu\":5.977,\"memory\":4154988.000,\"threadInfo\":{\"isThreadStarving\":\"False\",\"threadWaitIntervalInMs\":0.3581,\"availableThreads\":32765,\"minThreads\":16,\"maxThreads\":32767},\"numberOfOpenTcpConnection\":2},{\"dateUtc\":\"2025-01-28T10:57:41.9138273Z\",\"cpu\":6.855,\"memory\":4187612.000,\"threadInfo\":{\"isThreadStarving\":\"False\",\"threadWaitIntervalInMs\":0.3785,\"availableThreads\":32765,\"minThreads\":16,\"maxThreads\":32767},\"numberOfOpenTcpConnection\":2},{\"dateUtc\":\"2025-01-28T10:57:51.9198363Z\",\"cpu\":6.082,\"memory\":4189136.000,\"threadInfo\":{\"isThreadStarving\":\"False\",\"threadWaitIntervalInMs\":0.3957,\"availableThreads\":32765,\"minThreads\":16,\"maxThreads\":32767},\"numberOfOpenTcpConnection\":2},{\"dateUtc\":\"2025-01-28T10:58:01.9286193Z\",\"cpu\":8.630,\"memory\":4280540.000,\"threadInfo\":{\"isThreadStarving\":\"False\",\"threadWaitIntervalInMs\":0.1648,\"availableThreads\":32765,\"minThreads\":16,\"maxThreads\":32767},\"numberOfOpenTcpConnection\":2},{\"dateUtc\":\"2025-01-28T10:58:11.9433346Z\",\"cpu\":7.316,\"memory\":4370920.000,\"threadInfo\":{\"isThreadStarving\":\"False\",\"threadWaitIntervalInMs\":0.4863,\"availableThreads\":32765,\"minThreads\":16,\"maxThreads\":32767},\"numberOfOpenTcpConnection\":2},{\"dateUtc\":\"2025-01-28T10:58:21.9572055Z\",\"cpu\":6.600,\"memory\":4378728.000,\"threadInfo\":{\"isThreadStarving\":\"False\",\"threadWaitIntervalInMs\":0.8301,\"availableThreads\":32765,\"minThreads\":16,\"maxThreads\":32767},\"numberOfOpenTcpConnection\":2}]}\n",
      "RequestStart: 2025-01-28T10:58:31.3175883Z; ResponseTime: 2025-01-28T10:58:31.3217079Z; StoreResult: StorePhysicalAddress: rntbd://127.0.0.1:10253/apps/DocDbApp/services/DocDbServer12/partitions/a4cb4958-38c8-11e6-8106-8cdcd42c33be/replicas/1p/, LSN: 29, GlobalCommittedLsn: -1, PartitionKeyRangeId: 0, IsValid: True, StatusCode: 400, SubStatusCode: 0, RequestCharge: 2.6, ItemLSN: -1, SessionToken: -1#29, UsingLocalLSN: False, TransportException: null, BELatencyMs: 2.368, ActivityId: 75541214-e437-4e6f-a21d-31c8ba92da2b, RetryAfterInMs: , ReplicaHealthStatuses: [(port: 10253 | status: Connected | lkt: 27-01-2025 04:32:27)], TransportRequestTimeline: {\"requestTimeline\":[{\"event\": \"Created\", \"startTimeUtc\": \"2025-01-28T10:58:31.3175909Z\", \"durationInMs\": 0.0245},{\"event\": \"ChannelAcquisitionStarted\", \"startTimeUtc\": \"2025-01-28T10:58:31.3176154Z\", \"durationInMs\": 0.0203},{\"event\": \"Pipelined\", \"startTimeUtc\": \"2025-01-28T10:58:31.3176357Z\", \"durationInMs\": 0.2},{\"event\": \"Transit Time\", \"startTimeUtc\": \"2025-01-28T10:58:31.3178357Z\", \"durationInMs\": 3.0434},{\"event\": \"Received\", \"startTimeUtc\": \"2025-01-28T10:58:31.3208791Z\", \"durationInMs\": 0.3924},{\"event\": \"Completed\", \"startTimeUtc\": \"2025-01-28T10:58:31.3212715Z\", \"durationInMs\": 0}],\"serviceEndpointStats\":{\"inflightRequests\":1,\"openConnections\":1},\"connectionStats\":{\"waitforConnectionInit\":\"False\",\"callsPendingReceive\":0,\"lastSendAttempt\":\"2025-01-28T10:58:08.5501184Z\",\"lastSend\":\"2025-01-28T10:58:08.5503017Z\",\"lastReceive\":\"2025-01-28T10:58:08.5544912Z\"},\"requestSizeInBytes\":557,\"requestBodySizeInBytes\":51,\"responseMetadataSizeInBytes\":183,\"responseBodySizeInBytes\":359};\n",
      " ResourceType: Document, OperationType: Create\n",
      ", SDK: Microsoft.Azure.Documents.Common/2.14.0\n",
      "Code: BadRequest\n",
      "Message: Message: {\"Errors\":[\"Encountered exception while executing Javascript. Exception = Error: Missing field: 'name' is required.\\r\\nStack trace: Error: Missing field: 'name' is required.\\n   at validateAndEnhanceUserData (validateAndEnhanceUserData.js:12:13)\\n   at __docDbMain (validateAndEnhanceUserData.js:28:5)\\n   at Global code (validateAndEnhanceUserData.js:1:2)\"]}\n",
      "ActivityId: 75541214-e437-4e6f-a21d-31c8ba92da2b, Request URI: /apps/DocDbApp/services/DocDbServer12/partitions/a4cb4958-38c8-11e6-8106-8cdcd42c33be/replicas/1p/, RequestStats: \n",
      "RequestStartTime: 2025-01-28T10:58:31.3173081Z, RequestEndTime: 2025-01-28T10:58:31.3217079Z,  Number of regions attempted:1\n",
      "{\"systemHistory\":[{\"dateUtc\":\"2025-01-28T10:57:31.8991077Z\",\"cpu\":5.977,\"memory\":4154988.000,\"threadInfo\":{\"isThreadStarving\":\"False\",\"threadWaitIntervalInMs\":0.3581,\"availableThreads\":32765,\"minThreads\":16,\"maxThreads\":32767},\"numberOfOpenTcpConnection\":2},{\"dateUtc\":\"2025-01-28T10:57:41.9138273Z\",\"cpu\":6.855,\"memory\":4187612.000,\"threadInfo\":{\"isThreadStarving\":\"False\",\"threadWaitIntervalInMs\":0.3785,\"availableThreads\":32765,\"minThreads\":16,\"maxThreads\":32767},\"numberOfOpenTcpConnection\":2},{\"dateUtc\":\"2025-01-28T10:57:51.9198363Z\",\"cpu\":6.082,\"memory\":4189136.000,\"threadInfo\":{\"isThreadStarving\":\"False\",\"threadWaitIntervalInMs\":0.3957,\"availableThreads\":32765,\"minThreads\":16,\"maxThreads\":32767},\"numberOfOpenTcpConnection\":2},{\"dateUtc\":\"2025-01-28T10:58:01.9286193Z\",\"cpu\":8.630,\"memory\":4280540.000,\"threadInfo\":{\"isThreadStarving\":\"False\",\"threadWaitIntervalInMs\":0.1648,\"availableThreads\":32765,\"minThreads\":16,\"maxThreads\":32767},\"numberOfOpenTcpConnection\":2},{\"dateUtc\":\"2025-01-28T10:58:11.9433346Z\",\"cpu\":7.316,\"memory\":4370920.000,\"threadInfo\":{\"isThreadStarving\":\"False\",\"threadWaitIntervalInMs\":0.4863,\"availableThreads\":32765,\"minThreads\":16,\"maxThreads\":32767},\"numberOfOpenTcpConnection\":2},{\"dateUtc\":\"2025-01-28T10:58:21.9572055Z\",\"cpu\":6.600,\"memory\":4378728.000,\"threadInfo\":{\"isThreadStarving\":\"False\",\"threadWaitIntervalInMs\":0.8301,\"availableThreads\":32765,\"minThreads\":16,\"maxThreads\":32767},\"numberOfOpenTcpConnection\":2}]}\n",
      "RequestStart: 2025-01-28T10:58:31.3175883Z; ResponseTime: 2025-01-28T10:58:31.3217079Z; StoreResult: StorePhysicalAddress: rntbd://127.0.0.1:10253/apps/DocDbApp/services/DocDbServer12/partitions/a4cb4958-38c8-11e6-8106-8cdcd42c33be/replicas/1p/, LSN: 29, GlobalCommittedLsn: -1, PartitionKeyRangeId: 0, IsValid: True, StatusCode: 400, SubStatusCode: 0, RequestCharge: 2.6, ItemLSN: -1, SessionToken: -1#29, UsingLocalLSN: False, TransportException: null, BELatencyMs: 2.368, ActivityId: 75541214-e437-4e6f-a21d-31c8ba92da2b, RetryAfterInMs: , ReplicaHealthStatuses: [(port: 10253 | status: Connected | lkt: 27-01-2025 04:32:27)], TransportRequestTimeline: {\"requestTimeline\":[{\"event\": \"Created\", \"startTimeUtc\": \"2025-01-28T10:58:31.3175909Z\", \"durationInMs\": 0.0245},{\"event\": \"ChannelAcquisitionStarted\", \"startTimeUtc\": \"2025-01-28T10:58:31.3176154Z\", \"durationInMs\": 0.0203},{\"event\": \"Pipelined\", \"startTimeUtc\": \"2025-01-28T10:58:31.3176357Z\", \"durationInMs\": 0.2},{\"event\": \"Transit Time\", \"startTimeUtc\": \"2025-01-28T10:58:31.3178357Z\", \"durationInMs\": 3.0434},{\"event\": \"Received\", \"startTimeUtc\": \"2025-01-28T10:58:31.3208791Z\", \"durationInMs\": 0.3924},{\"event\": \"Completed\", \"startTimeUtc\": \"2025-01-28T10:58:31.3212715Z\", \"durationInMs\": 0}],\"serviceEndpointStats\":{\"inflightRequests\":1,\"openConnections\":1},\"connectionStats\":{\"waitforConnectionInit\":\"False\",\"callsPendingReceive\":0,\"lastSendAttempt\":\"2025-01-28T10:58:08.5501184Z\",\"lastSend\":\"2025-01-28T10:58:08.5503017Z\",\"lastReceive\":\"2025-01-28T10:58:08.5544912Z\"},\"requestSizeInBytes\":557,\"requestBodySizeInBytes\":51,\"responseMetadataSizeInBytes\":183,\"responseBodySizeInBytes\":359};\n",
      " ResourceType: Document, OperationType: Create\n",
      ", SDK: Microsoft.Azure.Documents.Common/2.14.0\n"
     ]
    },
    {
     "name": "stderr",
     "output_type": "stream",
     "text": [
      "c:\\Users\\Navdeep\\anaconda3\\Lib\\site-packages\\urllib3\\connectionpool.py:1100: InsecureRequestWarning: Unverified HTTPS request is being made to host '127.0.0.1'. Adding certificate verification is strongly advised. See: https://urllib3.readthedocs.io/en/latest/advanced-usage.html#tls-warnings\n",
      "  warnings.warn(\n"
     ]
    }
   ],
   "source": [
    "from azure.cosmos.exceptions import CosmosHttpResponseError\n",
    "try:\n",
    "    # Insert a user using the trigger\n",
    "    user = {\n",
    "        \"id\": \"8\",\n",
    "        \"userId\": \"user5\",\n",
    "        \"totalAmount\": 150.00\n",
    "        # No createdAt field here; the trigger will add it\n",
    "    }\n",
    "\n",
    "    result = container.create_item(\n",
    "        body=user,\n",
    "        pre_trigger_include=['validateAndEnhanceUserData']  # Use the trigger\n",
    "    )\n",
    "\n",
    "    print(\"User inserted with trigger:\", result)\n",
    "except CosmosHttpResponseError as e:\n",
    "    # Extract a nice one-line message from the error\n",
    "    print(f\"Error: {e.message}\")"
   ]
  },
  {
   "cell_type": "markdown",
   "metadata": {},
   "source": [
    "# Deploy the UDF\n"
   ]
  },
  {
   "cell_type": "markdown",
   "metadata": {},
   "source": [
    "This UDF will calculate the discounted price for a given item based on its price and a discount percentage."
   ]
  },
  {
   "cell_type": "code",
   "execution_count": 22,
   "metadata": {},
   "outputs": [
    {
     "name": "stdout",
     "output_type": "stream",
     "text": [
      "UDF 'calculateDiscount' created successfully.\n"
     ]
    },
    {
     "name": "stderr",
     "output_type": "stream",
     "text": [
      "c:\\Users\\Navdeep\\anaconda3\\Lib\\site-packages\\urllib3\\connectionpool.py:1100: InsecureRequestWarning: Unverified HTTPS request is being made to host '127.0.0.1'. Adding certificate verification is strongly advised. See: https://urllib3.readthedocs.io/en/latest/advanced-usage.html#tls-warnings\n",
      "  warnings.warn(\n"
     ]
    }
   ],
   "source": [
    "# Define the UDF\n",
    "udf = {\n",
    "    'id': 'calculateDiscount',\n",
    "    'body': '''\n",
    "    function calculateDiscount(price, discountPercentage) {\n",
    "        if (price == null || discountPercentage == null) {\n",
    "            throw new Error(\"Both price and discountPercentage are required.\");\n",
    "        }\n",
    "\n",
    "        if (discountPercentage < 0 || discountPercentage > 100) {\n",
    "            throw new Error(\"Discount percentage must be between 0 and 100.\");\n",
    "        }\n",
    "\n",
    "        return price - (price * discountPercentage / 100);\n",
    "    }\n",
    "    '''\n",
    "}\n",
    "\n",
    "# Deploy the UDF to the container\n",
    "container.scripts.create_user_defined_function(body=udf)\n",
    "print(\"UDF 'calculateDiscount' created successfully.\")\n"
   ]
  },
  {
   "cell_type": "markdown",
   "metadata": {},
   "source": [
    "2. **Test the UDF**"
   ]
  },
  {
   "cell_type": "code",
   "execution_count": 23,
   "metadata": {},
   "outputs": [
    {
     "name": "stdout",
     "output_type": "stream",
     "text": [
      "Query results:\n",
      "{'id': '1', 'name': 'Alice', 'totalAmount': 120.5, 'discountedPrice': 108.45}\n",
      "{'id': '2', 'name': 'Alice', 'totalAmount': 80, 'discountedPrice': 72}\n",
      "{'id': '3', 'name': 'Bob', 'totalAmount': 200, 'discountedPrice': 180}\n",
      "{'id': '4', 'name': 'Bob', 'totalAmount': 150, 'discountedPrice': 135}\n",
      "{'id': '5', 'name': 'Charlie', 'totalAmount': 300, 'discountedPrice': 270}\n",
      "{'id': '6', 'name': 'Charlie', 'totalAmount': 100, 'discountedPrice': 90}\n",
      "{'id': '7', 'name': 'David', 'totalAmount': 150, 'discountedPrice': 135}\n"
     ]
    },
    {
     "name": "stderr",
     "output_type": "stream",
     "text": [
      "c:\\Users\\Navdeep\\anaconda3\\Lib\\site-packages\\urllib3\\connectionpool.py:1100: InsecureRequestWarning: Unverified HTTPS request is being made to host '127.0.0.1'. Adding certificate verification is strongly advised. See: https://urllib3.readthedocs.io/en/latest/advanced-usage.html#tls-warnings\n",
      "  warnings.warn(\n"
     ]
    }
   ],
   "source": [
    "# Query using the UDF\n",
    "query = \"\"\"\n",
    "SELECT c.id, c.name, c.totalAmount, udf.calculateDiscount(c.totalAmount, 10) AS discountedPrice\n",
    "FROM c\n",
    "\"\"\"\n",
    "\n",
    "# Run the query\n",
    "results = container.query_items(\n",
    "    query=query,\n",
    "    enable_cross_partition_query=True  # Enable cross-partition query if needed\n",
    ")\n",
    "\n",
    "# Print the results\n",
    "print(\"Query results:\")\n",
    "for item in results:\n",
    "    print(item)\n"
   ]
  }
 ],
 "metadata": {
  "kernelspec": {
   "display_name": "base",
   "language": "python",
   "name": "python3"
  },
  "language_info": {
   "codemirror_mode": {
    "name": "ipython",
    "version": 3
   },
   "file_extension": ".py",
   "mimetype": "text/x-python",
   "name": "python",
   "nbconvert_exporter": "python",
   "pygments_lexer": "ipython3",
   "version": "3.11.7"
  }
 },
 "nbformat": 4,
 "nbformat_minor": 2
}
