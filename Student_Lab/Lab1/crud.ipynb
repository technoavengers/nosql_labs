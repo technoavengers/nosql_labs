{
 "cells": [
  {
   "cell_type": "markdown",
   "metadata": {},
   "source": [
    "### Install Cassandra Driver"
   ]
  },
  {
   "cell_type": "code",
   "execution_count": null,
   "metadata": {},
   "outputs": [],
   "source": [
    "pip install cassandra-driver"
   ]
  },
  {
   "cell_type": "markdown",
   "metadata": {},
   "source": [
    "### Step1:  Connecting to a Cassandra Cluster and Setting a Keyspace\n",
    "\n",
    "✅ Connect to an Apache Cassandra cluster using Python and the cassandra-driver package.\n",
    "\n",
    "✅ Create a keyspace dynamically within the script.\n",
    "\n",
    "✅ Set the created keyspace for further operations."
   ]
  },
  {
   "cell_type": "markdown",
   "metadata": {},
   "source": [
    "### Modify the below Code (TODO)\n",
    "\n",
    "Now, modify the code to create a keyspace with a different name and set it in the session variable.\n",
    "\n",
    "🔹 Update the keyspace name to \"student_keyspace\" in the CREATE KEYSPACE query and ensure it is correctly set using session.set_keyspace().\n",
    "\n",
    "🔹 Use a replication factor of 2 for better data redundancy in a multi-node cluster."
   ]
  },
  {
   "cell_type": "code",
   "execution_count": null,
   "metadata": {},
   "outputs": [],
   "source": [
    "from cassandra.cluster import Cluster\n",
    "\n",
    "# Connect to Cassandra Cluster\n",
    "def connect_to_cassandra():\n",
    "    cluster = Cluster([\"127.0.0.1\"])  # Change IP if running on a remote node\n",
    "    session = cluster.connect()  # Connect without setting a keyspace\n",
    "\n",
    "    # ✅ Create keyspace before setting it\n",
    "    session.execute(\"\"\"\n",
    "        CREATE KEYSPACE IF NOT EXISTS mykeyspace\n",
    "        WITH replication = {'class': 'SimpleStrategy', 'replication_factor': '1'}\n",
    "    \"\"\")\n",
    "    print(\"Keyspace created successfully!\")\n",
    "\n",
    "    session.set_keyspace(\"mykeyspace\")  # Now it's safe to set the keyspace\n",
    "    return session  # Return the session object\n",
    "\n",
    "# Call the function to establish a connection\n",
    "session = connect_to_cassandra()\n"
   ]
  },
  {
   "cell_type": "markdown",
   "metadata": {},
   "source": [
    "### Step 2: Creating a Table in Cassandra Using Python\n",
    "\n",
    "Objective\n",
    "\n",
    "✅ Create a table in Cassandra using Python and the cassandra-driver package.\n",
    "\n",
    "✅ Define columns with appropriate data types.\n",
    "\n",
    "✅ Use IF NOT EXISTS to ensure the table is created only if it does not already exist."
   ]
  },
  {
   "cell_type": "markdown",
   "metadata": {},
   "source": [
    "Now, modify the code to create the table in student_keyspace instead of mykeyspace.\n",
    "\n",
    "TODO\n",
    "\n",
    "🔹 Update the keyspace name to \"student_keyspace\" in the CREATE TABLE query.\n",
    "\n",
    "🔹 Create a table named students\n",
    "\n",
    "🔹 Define these columns- \n",
    "            id UUID PRIMARY KEY,\n",
    "            name TEXT,\n",
    "            age INT,\n",
    "            city TEXT,\n",
    "            email TEXT,\n",
    "            enrollment_date TIMESTAMP\n",
    "\n",
    "🔹 Use IF NOT EXISTS to prevent errors if the table already exists."
   ]
  },
  {
   "cell_type": "code",
   "execution_count": null,
   "metadata": {},
   "outputs": [],
   "source": [
    "def create_table(session):\n",
    "    session.execute(\"\"\"\n",
    "        CREATE TABLE IF NOT EXISTS mykeyspace.users (\n",
    "            id UUID PRIMARY KEY,\n",
    "            name TEXT,\n",
    "            age INT,\n",
    "            city TEXT\n",
    "        )\n",
    "    \"\"\")\n",
    "    print(\"Table created successfully!\")\n",
    "\n",
    "create_table(session)"
   ]
  },
  {
   "cell_type": "markdown",
   "metadata": {},
   "source": [
    "### Step 3: Inserting Data into the students Table in Cassandra\n"
   ]
  },
  {
   "cell_type": "markdown",
   "metadata": {},
   "source": [
    "🔹  Insert 2 row into the student table. Use below query for insertion.\n",
    "\n",
    "\"\"\"INSERT INTO student_keyspace.students (id, name, age, city, email, enrollment_date)\n",
    "        VALUES (%s, %s, %s, %s, %s, %s)\n",
    "    \"\"\",(uuid.UUID(student_id), name, age, city, email, enrollment_date)"
   ]
  },
  {
   "cell_type": "code",
   "execution_count": null,
   "metadata": {},
   "outputs": [],
   "source": [
    "import uuid\n",
    "\n",
    "# Insert Data \n",
    "def insert_data(session, user_id, name, age, city):\n",
    "   session.execute(\"\"\"\n",
    "        INSERT INTO users (id, name, age, city)\n",
    "        VALUES (%s, %s, %s, %s)\n",
    "    \"\"\", (uuid.UUID(user_id), name, age, city))\n",
    "\n",
    "insert_data(session, str(uuid.uuid4()), \"John\", 23, \"New York\")  # ✅ Pass a valid UUID\n",
    "print(\"Data Inserted\")\n"
   ]
  },
  {
   "cell_type": "markdown",
   "metadata": {},
   "source": [
    "### Read Data from students table. \n",
    "\n",
    "🔹  Make sure to change keyspace name and table name"
   ]
  },
  {
   "cell_type": "code",
   "execution_count": null,
   "metadata": {},
   "outputs": [],
   "source": [
    "# Read Data\n",
    "def read_data(session):\n",
    "    rows = session.execute(\"SELECT * FROM mykeyspace.users\")\n",
    "    for row in rows:\n",
    "        print(row)\n",
    "\n",
    "read_data(session)"
   ]
  },
  {
   "cell_type": "markdown",
   "metadata": {},
   "source": [
    "### Delete Data from students table.\n",
    "\n",
    "🔹  Give appropriate UUID to delete some specific student"
   ]
  },
  {
   "cell_type": "code",
   "execution_count": null,
   "metadata": {},
   "outputs": [],
   "source": [
    "def delete_row(session, user_id):\n",
    "    session.execute(\"DELETE FROM users WHERE id = %s\", (uuid.UUID(user_id),))\n",
    "    print(f\"Row with ID {user_id} deleted successfully!\")\n",
    "\n",
    "delete_row(session,'06b1647f-b009-4e81-8a9e-a05d9332f7ac')"
   ]
  },
  {
   "cell_type": "markdown",
   "metadata": {},
   "source": [
    "### Delete Table\n",
    "\n",
    "🔹  Delete the tabel student"
   ]
  },
  {
   "cell_type": "code",
   "execution_count": null,
   "metadata": {},
   "outputs": [],
   "source": [
    "def delete_table(session,table_name):\n",
    "    session.execute(f\"DROP TABLE IF EXISTS {table_name}\")\n",
    "    print(f\"Table {table_name} deleted successfully!\")\n",
    "\n",
    "delete_table(session,\"users\")"
   ]
  },
  {
   "cell_type": "markdown",
   "metadata": {},
   "source": [
    "### Delete Keyspace\n",
    "\n",
    "🔹  Finally delete your keyspace"
   ]
  },
  {
   "cell_type": "code",
   "execution_count": null,
   "metadata": {},
   "outputs": [],
   "source": [
    "# ✅ Delete Entire Keyspace\n",
    "def delete_keyspace(session,keyspace):\n",
    "    session.execute(f\"DROP KEYSPACE IF EXISTS {keyspace}\")\n",
    "    print(f\"Keyspace {keyspace} deleted successfully!\")\n",
    "\n",
    "delete_keyspace(session,\"mykeyspace\")"
   ]
  }
 ],
 "metadata": {
  "kernelspec": {
   "display_name": "base",
   "language": "python",
   "name": "python3"
  },
  "language_info": {
   "codemirror_mode": {
    "name": "ipython",
    "version": 3
   },
   "file_extension": ".py",
   "mimetype": "text/x-python",
   "name": "python",
   "nbconvert_exporter": "python",
   "pygments_lexer": "ipython3",
   "version": "3.11.7"
  }
 },
 "nbformat": 4,
 "nbformat_minor": 2
}
