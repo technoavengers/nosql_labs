{
 "cells": [
  {
   "cell_type": "code",
   "execution_count": null,
   "metadata": {},
   "outputs": [],
   "source": [
    "pip install cassandra-driver"
   ]
  },
  {
   "cell_type": "code",
   "execution_count": null,
   "metadata": {},
   "outputs": [],
   "source": [
    "from cassandra.cluster import Cluster\n",
    "\n",
    "# Connect to Cassandra Cluster\n",
    "def connect_to_cassandra():\n",
    "    cluster = Cluster([\"127.0.0.1\"])  # Change IP if running on a remote node\n",
    "    session = cluster.connect()  # Connect without setting a keyspace\n",
    "\n",
    "    # ✅ Create keyspace before setting it\n",
    "    session.execute(\"\"\"\n",
    "        CREATE KEYSPACE IF NOT EXISTS mykeyspace\n",
    "        WITH replication = {'class': 'SimpleStrategy', 'replication_factor': '1'}\n",
    "    \"\"\")\n",
    "    print(\"Keyspace created successfully!\")\n",
    "\n",
    "    session.set_keyspace(\"mykeyspace\")  # Now it's safe to set the keyspace\n",
    "    return session  # Return the session object\n",
    "\n",
    "session = connect_to_cassandra()"
   ]
  },
  {
   "cell_type": "code",
   "execution_count": null,
   "metadata": {},
   "outputs": [],
   "source": [
    "def create_table(session):\n",
    "    session.execute(\"\"\"\n",
    "        CREATE TABLE IF NOT EXISTS mykeyspace.users (\n",
    "            id UUID PRIMARY KEY,\n",
    "            name TEXT,\n",
    "            age INT,\n",
    "            city TEXT\n",
    "        )\n",
    "    \"\"\")\n",
    "    print(\"Table created successfully!\")\n",
    "\n",
    "create_table(session)"
   ]
  },
  {
   "cell_type": "code",
   "execution_count": null,
   "metadata": {},
   "outputs": [],
   "source": [
    "import uuid\n",
    "\n",
    "# Insert Data \n",
    "def insert_data(session, user_id, name, age, city):\n",
    "   session.execute(\"\"\"\n",
    "        INSERT INTO users (id, name, age, city)\n",
    "        VALUES (%s, %s, %s, %s)\n",
    "    \"\"\", (uuid.UUID(user_id), name, age, city))\n",
    "\n",
    "insert_data(session, str(uuid.uuid4()), \"John\", 23, \"New York\")  # ✅ Pass a valid UUID\n",
    "print(\"Data Inserted\")\n"
   ]
  },
  {
   "cell_type": "code",
   "execution_count": null,
   "metadata": {},
   "outputs": [],
   "source": [
    "# Read Data\n",
    "def read_data(session):\n",
    "    rows = session.execute(\"SELECT * FROM mykeyspace.users\")\n",
    "    for row in rows:\n",
    "        print(row)\n",
    "\n",
    "read_data(session)"
   ]
  },
  {
   "cell_type": "code",
   "execution_count": null,
   "metadata": {},
   "outputs": [],
   "source": [
    "def delete_row(session, user_id):\n",
    "    session.execute(\"DELETE FROM users WHERE id = %s\", (uuid.UUID(user_id),))\n",
    "    print(f\"Row with ID {user_id} deleted successfully!\")\n",
    "\n",
    "delete_row(session,'06b1647f-b009-4e81-8a9e-a05d9332f7ac')"
   ]
  },
  {
   "cell_type": "code",
   "execution_count": null,
   "metadata": {},
   "outputs": [],
   "source": [
    "def delete_table(session,table_name):\n",
    "    session.execute(f\"DROP TABLE IF EXISTS {table_name}\")\n",
    "    print(f\"Table {table_name} deleted successfully!\")\n",
    "\n",
    "delete_table(session,\"users\")"
   ]
  },
  {
   "cell_type": "code",
   "execution_count": null,
   "metadata": {},
   "outputs": [],
   "source": [
    "# ✅ Delete Entire Keyspace\n",
    "def delete_keyspace(session,keyspace):\n",
    "    session.execute(f\"DROP KEYSPACE IF EXISTS {keyspace}\")\n",
    "    print(f\"Keyspace {keyspace} deleted successfully!\")\n",
    "\n",
    "delete_keyspace(session,\"mykeyspace\")"
   ]
  }
 ],
 "metadata": {
  "kernelspec": {
   "display_name": "base",
   "language": "python",
   "name": "python3"
  },
  "language_info": {
   "codemirror_mode": {
    "name": "ipython",
    "version": 3
   },
   "file_extension": ".py",
   "mimetype": "text/x-python",
   "name": "python",
   "nbconvert_exporter": "python",
   "pygments_lexer": "ipython3",
   "version": "3.11.7"
  }
 },
 "nbformat": 4,
 "nbformat_minor": 2
}
